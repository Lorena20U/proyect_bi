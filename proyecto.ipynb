{
 "cells": [
  {
   "cell_type": "code",
   "execution_count": 2,
   "metadata": {},
   "outputs": [],
   "source": [
    "import pandas as pd\n"
   ]
  },
  {
   "attachments": {},
   "cell_type": "markdown",
   "metadata": {},
   "source": [
    "### Benefits Cost Sharing\n",
    "El BenCS-PUF contiene\n",
    "datos a nivel de variante del plan sobre beneficios de salud esenciales, límites de cobertura y costos compartidos para cada QHP y SADP"
   ]
  },
  {
   "cell_type": "code",
   "execution_count": 4,
   "metadata": {},
   "outputs": [
    {
     "name": "stderr",
     "output_type": "stream",
     "text": [
      "C:\\Users\\yanet\\AppData\\Local\\Temp\\ipykernel_10092\\985464489.py:1: DtypeWarning: Columns (9,12,19) have mixed types. Specify dtype option on import or set low_memory=False.\n",
      "  benefits = pd.read_csv(\"Benefits_Cost_Sharing_PUF.csv\")\n"
     ]
    }
   ],
   "source": [
    "benefits = pd.read_csv(\"Benefits_Cost_Sharing_PUF.csv\")"
   ]
  },
  {
   "cell_type": "code",
   "execution_count": 6,
   "metadata": {},
   "outputs": [
    {
     "data": {
      "text/plain": [
       "(2219416, 24)"
      ]
     },
     "execution_count": 6,
     "metadata": {},
     "output_type": "execute_result"
    }
   ],
   "source": [
    "benefits.shape"
   ]
  },
  {
   "cell_type": "code",
   "execution_count": 7,
   "metadata": {},
   "outputs": [
    {
     "data": {
      "text/html": [
       "<div>\n",
       "<style scoped>\n",
       "    .dataframe tbody tr th:only-of-type {\n",
       "        vertical-align: middle;\n",
       "    }\n",
       "\n",
       "    .dataframe tbody tr th {\n",
       "        vertical-align: top;\n",
       "    }\n",
       "\n",
       "    .dataframe thead th {\n",
       "        text-align: right;\n",
       "    }\n",
       "</style>\n",
       "<table border=\"1\" class=\"dataframe\">\n",
       "  <thead>\n",
       "    <tr style=\"text-align: right;\">\n",
       "      <th></th>\n",
       "      <th>BusinessYear</th>\n",
       "      <th>StateCode</th>\n",
       "      <th>IssuerId</th>\n",
       "      <th>SourceName</th>\n",
       "      <th>ImportDate</th>\n",
       "      <th>StandardComponentId</th>\n",
       "      <th>PlanId</th>\n",
       "      <th>BenefitName</th>\n",
       "      <th>CopayInnTier1</th>\n",
       "      <th>CopayInnTier2</th>\n",
       "      <th>...</th>\n",
       "      <th>IsEHB</th>\n",
       "      <th>IsCovered</th>\n",
       "      <th>QuantLimitOnSvc</th>\n",
       "      <th>LimitQty</th>\n",
       "      <th>LimitUnit</th>\n",
       "      <th>Exclusions</th>\n",
       "      <th>Explanation</th>\n",
       "      <th>EHBVarReason</th>\n",
       "      <th>IsExclFromInnMOOP</th>\n",
       "      <th>IsExclFromOonMOOP</th>\n",
       "    </tr>\n",
       "  </thead>\n",
       "  <tbody>\n",
       "    <tr>\n",
       "      <th>0</th>\n",
       "      <td>2023</td>\n",
       "      <td>AK</td>\n",
       "      <td>21989</td>\n",
       "      <td>HIOS</td>\n",
       "      <td>2022-11-19 01:01:13</td>\n",
       "      <td>21989AK0030001</td>\n",
       "      <td>21989AK0030001-00</td>\n",
       "      <td>Routine Dental Services (Adult)</td>\n",
       "      <td>Not Applicable</td>\n",
       "      <td>NaN</td>\n",
       "      <td>...</td>\n",
       "      <td>NaN</td>\n",
       "      <td>Covered</td>\n",
       "      <td>Yes</td>\n",
       "      <td>1100.0</td>\n",
       "      <td>Dollars per Year</td>\n",
       "      <td>NaN</td>\n",
       "      <td>$1,100 annual maximum plan payment limit combi...</td>\n",
       "      <td>Not EHB</td>\n",
       "      <td>Yes</td>\n",
       "      <td>Yes</td>\n",
       "    </tr>\n",
       "    <tr>\n",
       "      <th>1</th>\n",
       "      <td>2023</td>\n",
       "      <td>AK</td>\n",
       "      <td>21989</td>\n",
       "      <td>HIOS</td>\n",
       "      <td>2022-11-19 01:01:13</td>\n",
       "      <td>21989AK0030001</td>\n",
       "      <td>21989AK0030001-00</td>\n",
       "      <td>Dental Check-Up for Children</td>\n",
       "      <td>Not Applicable</td>\n",
       "      <td>NaN</td>\n",
       "      <td>...</td>\n",
       "      <td>Yes</td>\n",
       "      <td>Covered</td>\n",
       "      <td>NaN</td>\n",
       "      <td>NaN</td>\n",
       "      <td>NaN</td>\n",
       "      <td>NaN</td>\n",
       "      <td>See policy for additional limitations</td>\n",
       "      <td>Substantially Equal</td>\n",
       "      <td>No</td>\n",
       "      <td>No</td>\n",
       "    </tr>\n",
       "    <tr>\n",
       "      <th>2</th>\n",
       "      <td>2023</td>\n",
       "      <td>AK</td>\n",
       "      <td>21989</td>\n",
       "      <td>HIOS</td>\n",
       "      <td>2022-11-19 01:01:13</td>\n",
       "      <td>21989AK0030001</td>\n",
       "      <td>21989AK0030001-00</td>\n",
       "      <td>Basic Dental Care - Child</td>\n",
       "      <td>Not Applicable</td>\n",
       "      <td>NaN</td>\n",
       "      <td>...</td>\n",
       "      <td>Yes</td>\n",
       "      <td>Covered</td>\n",
       "      <td>NaN</td>\n",
       "      <td>NaN</td>\n",
       "      <td>NaN</td>\n",
       "      <td>NaN</td>\n",
       "      <td>NaN</td>\n",
       "      <td>NaN</td>\n",
       "      <td>No</td>\n",
       "      <td>No</td>\n",
       "    </tr>\n",
       "    <tr>\n",
       "      <th>3</th>\n",
       "      <td>2023</td>\n",
       "      <td>AK</td>\n",
       "      <td>21989</td>\n",
       "      <td>HIOS</td>\n",
       "      <td>2022-11-19 01:01:13</td>\n",
       "      <td>21989AK0030001</td>\n",
       "      <td>21989AK0030001-00</td>\n",
       "      <td>Orthodontia - Child</td>\n",
       "      <td>Not Applicable</td>\n",
       "      <td>NaN</td>\n",
       "      <td>...</td>\n",
       "      <td>Yes</td>\n",
       "      <td>Covered</td>\n",
       "      <td>NaN</td>\n",
       "      <td>NaN</td>\n",
       "      <td>NaN</td>\n",
       "      <td>NaN</td>\n",
       "      <td>Only medically necessary orthodontia is covered</td>\n",
       "      <td>Substantially Equal</td>\n",
       "      <td>No</td>\n",
       "      <td>No</td>\n",
       "    </tr>\n",
       "    <tr>\n",
       "      <th>4</th>\n",
       "      <td>2023</td>\n",
       "      <td>AK</td>\n",
       "      <td>21989</td>\n",
       "      <td>HIOS</td>\n",
       "      <td>2022-11-19 01:01:13</td>\n",
       "      <td>21989AK0030001</td>\n",
       "      <td>21989AK0030001-00</td>\n",
       "      <td>Major Dental Care - Child</td>\n",
       "      <td>Not Applicable</td>\n",
       "      <td>NaN</td>\n",
       "      <td>...</td>\n",
       "      <td>Yes</td>\n",
       "      <td>Covered</td>\n",
       "      <td>NaN</td>\n",
       "      <td>NaN</td>\n",
       "      <td>NaN</td>\n",
       "      <td>NaN</td>\n",
       "      <td>NaN</td>\n",
       "      <td>NaN</td>\n",
       "      <td>No</td>\n",
       "      <td>No</td>\n",
       "    </tr>\n",
       "  </tbody>\n",
       "</table>\n",
       "<p>5 rows × 24 columns</p>\n",
       "</div>"
      ],
      "text/plain": [
       "   BusinessYear StateCode  IssuerId SourceName           ImportDate  \\\n",
       "0          2023        AK     21989       HIOS  2022-11-19 01:01:13   \n",
       "1          2023        AK     21989       HIOS  2022-11-19 01:01:13   \n",
       "2          2023        AK     21989       HIOS  2022-11-19 01:01:13   \n",
       "3          2023        AK     21989       HIOS  2022-11-19 01:01:13   \n",
       "4          2023        AK     21989       HIOS  2022-11-19 01:01:13   \n",
       "\n",
       "  StandardComponentId             PlanId                      BenefitName  \\\n",
       "0      21989AK0030001  21989AK0030001-00  Routine Dental Services (Adult)   \n",
       "1      21989AK0030001  21989AK0030001-00     Dental Check-Up for Children   \n",
       "2      21989AK0030001  21989AK0030001-00        Basic Dental Care - Child   \n",
       "3      21989AK0030001  21989AK0030001-00              Orthodontia - Child   \n",
       "4      21989AK0030001  21989AK0030001-00        Major Dental Care - Child   \n",
       "\n",
       "    CopayInnTier1 CopayInnTier2  ... IsEHB IsCovered QuantLimitOnSvc LimitQty  \\\n",
       "0  Not Applicable           NaN  ...   NaN   Covered             Yes   1100.0   \n",
       "1  Not Applicable           NaN  ...   Yes   Covered             NaN      NaN   \n",
       "2  Not Applicable           NaN  ...   Yes   Covered             NaN      NaN   \n",
       "3  Not Applicable           NaN  ...   Yes   Covered             NaN      NaN   \n",
       "4  Not Applicable           NaN  ...   Yes   Covered             NaN      NaN   \n",
       "\n",
       "          LimitUnit Exclusions  \\\n",
       "0  Dollars per Year        NaN   \n",
       "1               NaN        NaN   \n",
       "2               NaN        NaN   \n",
       "3               NaN        NaN   \n",
       "4               NaN        NaN   \n",
       "\n",
       "                                         Explanation         EHBVarReason  \\\n",
       "0  $1,100 annual maximum plan payment limit combi...              Not EHB   \n",
       "1              See policy for additional limitations  Substantially Equal   \n",
       "2                                                NaN                  NaN   \n",
       "3    Only medically necessary orthodontia is covered  Substantially Equal   \n",
       "4                                                NaN                  NaN   \n",
       "\n",
       "  IsExclFromInnMOOP IsExclFromOonMOOP  \n",
       "0               Yes               Yes  \n",
       "1                No                No  \n",
       "2                No                No  \n",
       "3                No                No  \n",
       "4                No                No  \n",
       "\n",
       "[5 rows x 24 columns]"
      ]
     },
     "execution_count": 7,
     "metadata": {},
     "output_type": "execute_result"
    }
   ],
   "source": [
    "benefits.head()"
   ]
  },
  {
   "cell_type": "code",
   "execution_count": 8,
   "metadata": {},
   "outputs": [
    {
     "data": {
      "text/plain": [
       "BusinessYear             int64\n",
       "StateCode               object\n",
       "IssuerId                 int64\n",
       "SourceName              object\n",
       "ImportDate              object\n",
       "StandardComponentId     object\n",
       "PlanId                  object\n",
       "BenefitName             object\n",
       "CopayInnTier1           object\n",
       "CopayInnTier2           object\n",
       "CopayOutofNet           object\n",
       "CoinsInnTier1           object\n",
       "CoinsInnTier2           object\n",
       "CoinsOutofNet           object\n",
       "IsEHB                   object\n",
       "IsCovered               object\n",
       "QuantLimitOnSvc         object\n",
       "LimitQty               float64\n",
       "LimitUnit               object\n",
       "Exclusions              object\n",
       "Explanation             object\n",
       "EHBVarReason            object\n",
       "IsExclFromInnMOOP       object\n",
       "IsExclFromOonMOOP       object\n",
       "dtype: object"
      ]
     },
     "execution_count": 8,
     "metadata": {},
     "output_type": "execute_result"
    }
   ],
   "source": [
    "benefits.dtypes"
   ]
  },
  {
   "cell_type": "code",
   "execution_count": 9,
   "metadata": {},
   "outputs": [
    {
     "data": {
      "text/plain": [
       "BusinessYear                 0\n",
       "StateCode                    0\n",
       "IssuerId                     0\n",
       "SourceName                   0\n",
       "ImportDate                   0\n",
       "StandardComponentId          0\n",
       "PlanId                       0\n",
       "BenefitName                  0\n",
       "CopayInnTier1           503334\n",
       "CopayInnTier2          1851764\n",
       "CopayOutofNet           503334\n",
       "CoinsInnTier1           503334\n",
       "CoinsInnTier2          1851764\n",
       "CoinsOutofNet           503334\n",
       "IsEHB                   578360\n",
       "IsCovered               126678\n",
       "QuantLimitOnSvc        1612831\n",
       "LimitQty               1924124\n",
       "LimitUnit              1924091\n",
       "Exclusions             2082593\n",
       "Explanation            1536931\n",
       "EHBVarReason           1674115\n",
       "IsExclFromInnMOOP       390093\n",
       "IsExclFromOonMOOP       389673\n",
       "dtype: int64"
      ]
     },
     "execution_count": 9,
     "metadata": {},
     "output_type": "execute_result"
    }
   ],
   "source": [
    "benefits.isnull().sum()"
   ]
  },
  {
   "cell_type": "code",
   "execution_count": 14,
   "metadata": {},
   "outputs": [
    {
     "data": {
      "text/plain": [
       "7453"
      ]
     },
     "execution_count": 14,
     "metadata": {},
     "output_type": "execute_result"
    }
   ],
   "source": [
    "len(benefits[\"StandardComponentId\"].unique())"
   ]
  },
  {
   "cell_type": "code",
   "execution_count": 17,
   "metadata": {},
   "outputs": [
    {
     "data": {
      "text/plain": [
       "array(['AK'], dtype=object)"
      ]
     },
     "execution_count": 17,
     "metadata": {},
     "output_type": "execute_result"
    }
   ],
   "source": [
    "benefits[benefits[\"BenefitName\"]==\"\"].StateCode.unique()"
   ]
  },
  {
   "cell_type": "code",
   "execution_count": 36,
   "metadata": {},
   "outputs": [],
   "source": [
    "palabras = [\"hola Dental adios\", \"dental\", \"salud\"]"
   ]
  },
  {
   "cell_type": "code",
   "execution_count": 48,
   "metadata": {},
   "outputs": [
    {
     "data": {
      "text/plain": [
       "['hola Dental adios']"
      ]
     },
     "execution_count": 48,
     "metadata": {},
     "output_type": "execute_result"
    }
   ],
   "source": [
    "import re\n",
    "p = r'(.*ental.*)'\n",
    "re.findall(p, palabras[0])"
   ]
  },
  {
   "cell_type": "code",
   "execution_count": 100,
   "metadata": {},
   "outputs": [
    {
     "name": "stderr",
     "output_type": "stream",
     "text": [
      "C:\\Users\\yanet\\AppData\\Local\\Temp\\ipykernel_10092\\774937035.py:1: UserWarning: This pattern is interpreted as a regular expression, and has match groups. To actually get the groups, use str.extract.\n",
      "  benefits2 = benefits[~benefits[\"BenefitName\"].str.contains(p)]\n"
     ]
    }
   ],
   "source": [
    "benefits2 = benefits[~benefits[\"BenefitName\"].str.contains(p)]"
   ]
  },
  {
   "cell_type": "code",
   "execution_count": 101,
   "metadata": {},
   "outputs": [
    {
     "name": "stderr",
     "output_type": "stream",
     "text": [
      "C:\\Users\\yanet\\AppData\\Local\\Temp\\ipykernel_10092\\1252323181.py:1: UserWarning: This pattern is interpreted as a regular expression, and has match groups. To actually get the groups, use str.extract.\n",
      "  benefits2 = benefits2[~benefits2[\"BenefitName\"].str.contains(r'(.*rthodontia.*)')]\n"
     ]
    }
   ],
   "source": [
    "benefits2 = benefits2[~benefits2[\"BenefitName\"].str.contains(r'(.*rthodontia.*)')]"
   ]
  },
  {
   "cell_type": "code",
   "execution_count": 102,
   "metadata": {},
   "outputs": [
    {
     "data": {
      "text/plain": [
       "(1839633, 24)"
      ]
     },
     "execution_count": 102,
     "metadata": {},
     "output_type": "execute_result"
    }
   ],
   "source": [
    "benefits2.shape"
   ]
  },
  {
   "cell_type": "code",
   "execution_count": 79,
   "metadata": {},
   "outputs": [
    {
     "data": {
      "text/plain": [
       "(2219416, 24)"
      ]
     },
     "execution_count": 79,
     "metadata": {},
     "output_type": "execute_result"
    }
   ],
   "source": [
    "benefits.shape"
   ]
  },
  {
   "cell_type": "code",
   "execution_count": 114,
   "metadata": {},
   "outputs": [
    {
     "data": {
      "text/html": [
       "<div>\n",
       "<style scoped>\n",
       "    .dataframe tbody tr th:only-of-type {\n",
       "        vertical-align: middle;\n",
       "    }\n",
       "\n",
       "    .dataframe tbody tr th {\n",
       "        vertical-align: top;\n",
       "    }\n",
       "\n",
       "    .dataframe thead th {\n",
       "        text-align: right;\n",
       "    }\n",
       "</style>\n",
       "<table border=\"1\" class=\"dataframe\">\n",
       "  <thead>\n",
       "    <tr style=\"text-align: right;\">\n",
       "      <th></th>\n",
       "      <th>StateCode</th>\n",
       "    </tr>\n",
       "  </thead>\n",
       "  <tbody>\n",
       "    <tr>\n",
       "      <th>TX</th>\n",
       "      <td>279722</td>\n",
       "    </tr>\n",
       "    <tr>\n",
       "      <th>FL</th>\n",
       "      <td>159509</td>\n",
       "    </tr>\n",
       "    <tr>\n",
       "      <th>IL</th>\n",
       "      <td>111817</td>\n",
       "    </tr>\n",
       "    <tr>\n",
       "      <th>NC</th>\n",
       "      <td>103948</td>\n",
       "    </tr>\n",
       "    <tr>\n",
       "      <th>OH</th>\n",
       "      <td>102305</td>\n",
       "    </tr>\n",
       "    <tr>\n",
       "      <th>GA</th>\n",
       "      <td>99818</td>\n",
       "    </tr>\n",
       "    <tr>\n",
       "      <th>MI</th>\n",
       "      <td>68480</td>\n",
       "    </tr>\n",
       "  </tbody>\n",
       "</table>\n",
       "</div>"
      ],
      "text/plain": [
       "    StateCode\n",
       "TX     279722\n",
       "FL     159509\n",
       "IL     111817\n",
       "NC     103948\n",
       "OH     102305\n",
       "GA      99818\n",
       "MI      68480"
      ]
     },
     "execution_count": 114,
     "metadata": {},
     "output_type": "execute_result"
    }
   ],
   "source": [
    "pd.DataFrame(benefits2[\"StateCode\"].value_counts())"
   ]
  },
  {
   "cell_type": "code",
   "execution_count": 103,
   "metadata": {},
   "outputs": [],
   "source": [
    "benefits2 = benefits2[benefits2[\"StateCode\"].isin([\"TX\", \"FL\", \"NY\", \"PA\", \"IL\", \"OH\", \"GA\", \"NC\", \"MI\"])] #NY PA CA"
   ]
  },
  {
   "cell_type": "code",
   "execution_count": 129,
   "metadata": {},
   "outputs": [
    {
     "data": {
      "text/plain": [
       "BusinessYear                0\n",
       "StateCode                   0\n",
       "IssuerId                    0\n",
       "SourceName                  0\n",
       "ImportDate                  0\n",
       "StandardComponentId         0\n",
       "PlanId                      0\n",
       "BenefitName                 0\n",
       "CopayInnTier1          141992\n",
       "CopayInnTier2          713424\n",
       "CopayOutofNet          141992\n",
       "CoinsInnTier1          141992\n",
       "CoinsInnTier2          713424\n",
       "CoinsOutofNet          141992\n",
       "IsEHB                  208959\n",
       "IsCovered               29049\n",
       "QuantLimitOnSvc        653095\n",
       "LimitQty               787754\n",
       "LimitUnit              787754\n",
       "Exclusions             855427\n",
       "Explanation            591949\n",
       "EHBVarReason           720525\n",
       "IsExclFromInnMOOP      105159\n",
       "IsExclFromOonMOOP      105155\n",
       "dtype: int64"
      ]
     },
     "execution_count": 129,
     "metadata": {},
     "output_type": "execute_result"
    }
   ],
   "source": [
    "benefits2.isnull().sum()"
   ]
  },
  {
   "cell_type": "code",
   "execution_count": 108,
   "metadata": {},
   "outputs": [
    {
     "data": {
      "text/plain": [
       "BusinessYear               1\n",
       "StateCode                  7\n",
       "IssuerId                  90\n",
       "SourceName                 2\n",
       "ImportDate                44\n",
       "StandardComponentId     3137\n",
       "PlanId                 15494\n",
       "BenefitName              177\n",
       "CopayInnTier1            324\n",
       "CopayInnTier2             77\n",
       "CopayOutofNet            129\n",
       "CoinsInnTier1             41\n",
       "CoinsInnTier2             22\n",
       "CoinsOutofNet             42\n",
       "IsEHB                      1\n",
       "IsCovered                  2\n",
       "QuantLimitOnSvc            2\n",
       "LimitQty                  27\n",
       "LimitUnit                 25\n",
       "Exclusions               206\n",
       "Explanation             1093\n",
       "EHBVarReason               6\n",
       "IsExclFromInnMOOP          2\n",
       "IsExclFromOonMOOP          2\n",
       "dtype: int64"
      ]
     },
     "execution_count": 108,
     "metadata": {},
     "output_type": "execute_result"
    }
   ],
   "source": [
    "benefits2.nunique()"
   ]
  },
  {
   "cell_type": "code",
   "execution_count": 107,
   "metadata": {},
   "outputs": [
    {
     "data": {
      "text/html": [
       "<div>\n",
       "<style scoped>\n",
       "    .dataframe tbody tr th:only-of-type {\n",
       "        vertical-align: middle;\n",
       "    }\n",
       "\n",
       "    .dataframe tbody tr th {\n",
       "        vertical-align: top;\n",
       "    }\n",
       "\n",
       "    .dataframe thead th {\n",
       "        text-align: right;\n",
       "    }\n",
       "</style>\n",
       "<table border=\"1\" class=\"dataframe\">\n",
       "  <thead>\n",
       "    <tr style=\"text-align: right;\">\n",
       "      <th></th>\n",
       "      <th>BusinessYear</th>\n",
       "      <th>StateCode</th>\n",
       "      <th>IssuerId</th>\n",
       "      <th>SourceName</th>\n",
       "      <th>ImportDate</th>\n",
       "      <th>StandardComponentId</th>\n",
       "      <th>PlanId</th>\n",
       "      <th>BenefitName</th>\n",
       "      <th>CopayInnTier1</th>\n",
       "      <th>CopayInnTier2</th>\n",
       "      <th>...</th>\n",
       "      <th>IsEHB</th>\n",
       "      <th>IsCovered</th>\n",
       "      <th>QuantLimitOnSvc</th>\n",
       "      <th>LimitQty</th>\n",
       "      <th>LimitUnit</th>\n",
       "      <th>Exclusions</th>\n",
       "      <th>Explanation</th>\n",
       "      <th>EHBVarReason</th>\n",
       "      <th>IsExclFromInnMOOP</th>\n",
       "      <th>IsExclFromOonMOOP</th>\n",
       "    </tr>\n",
       "  </thead>\n",
       "  <tbody>\n",
       "    <tr>\n",
       "      <th>2143</th>\n",
       "      <td>2023</td>\n",
       "      <td>TX</td>\n",
       "      <td>71837</td>\n",
       "      <td>HIOS</td>\n",
       "      <td>2022-11-08 01:01:25</td>\n",
       "      <td>71837TX0010001</td>\n",
       "      <td>71837TX0010001-01</td>\n",
       "      <td>Abortion for Which Public Funding is Prohibited</td>\n",
       "      <td>NaN</td>\n",
       "      <td>NaN</td>\n",
       "      <td>...</td>\n",
       "      <td>NaN</td>\n",
       "      <td>Not Covered</td>\n",
       "      <td>NaN</td>\n",
       "      <td>NaN</td>\n",
       "      <td>NaN</td>\n",
       "      <td>NaN</td>\n",
       "      <td>NaN</td>\n",
       "      <td>NaN</td>\n",
       "      <td>No</td>\n",
       "      <td>No</td>\n",
       "    </tr>\n",
       "    <tr>\n",
       "      <th>2144</th>\n",
       "      <td>2023</td>\n",
       "      <td>TX</td>\n",
       "      <td>71837</td>\n",
       "      <td>HIOS</td>\n",
       "      <td>2022-11-08 01:01:25</td>\n",
       "      <td>71837TX0010001</td>\n",
       "      <td>71837TX0010001-01</td>\n",
       "      <td>Transplant</td>\n",
       "      <td>Not Applicable</td>\n",
       "      <td>NaN</td>\n",
       "      <td>...</td>\n",
       "      <td>Yes</td>\n",
       "      <td>Covered</td>\n",
       "      <td>NaN</td>\n",
       "      <td>NaN</td>\n",
       "      <td>NaN</td>\n",
       "      <td>NaN</td>\n",
       "      <td>Preauthorization is required.</td>\n",
       "      <td>NaN</td>\n",
       "      <td>No</td>\n",
       "      <td>No</td>\n",
       "    </tr>\n",
       "    <tr>\n",
       "      <th>2535</th>\n",
       "      <td>2023</td>\n",
       "      <td>TX</td>\n",
       "      <td>71837</td>\n",
       "      <td>HIOS</td>\n",
       "      <td>2022-11-08 01:01:25</td>\n",
       "      <td>71837TX0010001</td>\n",
       "      <td>71837TX0010001-01</td>\n",
       "      <td>Dialysis</td>\n",
       "      <td>Not Applicable</td>\n",
       "      <td>NaN</td>\n",
       "      <td>...</td>\n",
       "      <td>Yes</td>\n",
       "      <td>Covered</td>\n",
       "      <td>NaN</td>\n",
       "      <td>NaN</td>\n",
       "      <td>NaN</td>\n",
       "      <td>NaN</td>\n",
       "      <td>NaN</td>\n",
       "      <td>NaN</td>\n",
       "      <td>No</td>\n",
       "      <td>No</td>\n",
       "    </tr>\n",
       "    <tr>\n",
       "      <th>2536</th>\n",
       "      <td>2023</td>\n",
       "      <td>TX</td>\n",
       "      <td>71837</td>\n",
       "      <td>HIOS</td>\n",
       "      <td>2022-11-08 01:01:25</td>\n",
       "      <td>71837TX0010001</td>\n",
       "      <td>71837TX0010001-01</td>\n",
       "      <td>Allergy Testing</td>\n",
       "      <td>Not Applicable</td>\n",
       "      <td>NaN</td>\n",
       "      <td>...</td>\n",
       "      <td>Yes</td>\n",
       "      <td>Covered</td>\n",
       "      <td>NaN</td>\n",
       "      <td>NaN</td>\n",
       "      <td>NaN</td>\n",
       "      <td>NaN</td>\n",
       "      <td>NaN</td>\n",
       "      <td>NaN</td>\n",
       "      <td>No</td>\n",
       "      <td>No</td>\n",
       "    </tr>\n",
       "    <tr>\n",
       "      <th>2537</th>\n",
       "      <td>2023</td>\n",
       "      <td>TX</td>\n",
       "      <td>71837</td>\n",
       "      <td>HIOS</td>\n",
       "      <td>2022-11-08 01:01:25</td>\n",
       "      <td>71837TX0010001</td>\n",
       "      <td>71837TX0010001-01</td>\n",
       "      <td>Chemotherapy</td>\n",
       "      <td>Not Applicable</td>\n",
       "      <td>NaN</td>\n",
       "      <td>...</td>\n",
       "      <td>Yes</td>\n",
       "      <td>Covered</td>\n",
       "      <td>NaN</td>\n",
       "      <td>NaN</td>\n",
       "      <td>NaN</td>\n",
       "      <td>NaN</td>\n",
       "      <td>NaN</td>\n",
       "      <td>NaN</td>\n",
       "      <td>No</td>\n",
       "      <td>No</td>\n",
       "    </tr>\n",
       "  </tbody>\n",
       "</table>\n",
       "<p>5 rows × 24 columns</p>\n",
       "</div>"
      ],
      "text/plain": [
       "      BusinessYear StateCode  IssuerId SourceName           ImportDate  \\\n",
       "2143          2023        TX     71837       HIOS  2022-11-08 01:01:25   \n",
       "2144          2023        TX     71837       HIOS  2022-11-08 01:01:25   \n",
       "2535          2023        TX     71837       HIOS  2022-11-08 01:01:25   \n",
       "2536          2023        TX     71837       HIOS  2022-11-08 01:01:25   \n",
       "2537          2023        TX     71837       HIOS  2022-11-08 01:01:25   \n",
       "\n",
       "     StandardComponentId             PlanId  \\\n",
       "2143      71837TX0010001  71837TX0010001-01   \n",
       "2144      71837TX0010001  71837TX0010001-01   \n",
       "2535      71837TX0010001  71837TX0010001-01   \n",
       "2536      71837TX0010001  71837TX0010001-01   \n",
       "2537      71837TX0010001  71837TX0010001-01   \n",
       "\n",
       "                                          BenefitName   CopayInnTier1  \\\n",
       "2143  Abortion for Which Public Funding is Prohibited             NaN   \n",
       "2144                                       Transplant  Not Applicable   \n",
       "2535                                         Dialysis  Not Applicable   \n",
       "2536                                  Allergy Testing  Not Applicable   \n",
       "2537                                     Chemotherapy  Not Applicable   \n",
       "\n",
       "     CopayInnTier2  ... IsEHB    IsCovered QuantLimitOnSvc LimitQty LimitUnit  \\\n",
       "2143           NaN  ...   NaN  Not Covered             NaN      NaN       NaN   \n",
       "2144           NaN  ...   Yes      Covered             NaN      NaN       NaN   \n",
       "2535           NaN  ...   Yes      Covered             NaN      NaN       NaN   \n",
       "2536           NaN  ...   Yes      Covered             NaN      NaN       NaN   \n",
       "2537           NaN  ...   Yes      Covered             NaN      NaN       NaN   \n",
       "\n",
       "     Exclusions                    Explanation  EHBVarReason  \\\n",
       "2143        NaN                            NaN           NaN   \n",
       "2144        NaN  Preauthorization is required.           NaN   \n",
       "2535        NaN                            NaN           NaN   \n",
       "2536        NaN                            NaN           NaN   \n",
       "2537        NaN                            NaN           NaN   \n",
       "\n",
       "     IsExclFromInnMOOP IsExclFromOonMOOP  \n",
       "2143                No                No  \n",
       "2144                No                No  \n",
       "2535                No                No  \n",
       "2536                No                No  \n",
       "2537                No                No  \n",
       "\n",
       "[5 rows x 24 columns]"
      ]
     },
     "execution_count": 107,
     "metadata": {},
     "output_type": "execute_result"
    }
   ],
   "source": [
    "benefits2.head()"
   ]
  },
  {
   "attachments": {},
   "cell_type": "markdown",
   "metadata": {},
   "source": [
    "#### Columnas a eliminar\n",
    "BusinessYear - SourceName - ImportDate - Exclusions - EHBVarReason - \n",
    "\n",
    "#### Consideraciones\n",
    "IsEHB = Valores NaN convertirlos a \"no\".\n",
    "IsCovered = Filtrar los beneficios cubiertos."
   ]
  },
  {
   "cell_type": "code",
   "execution_count": 137,
   "metadata": {},
   "outputs": [
    {
     "data": {
      "text/plain": [
       "Index(['StateCode', 'IssuerId', 'StandardComponentId', 'PlanId', 'BenefitName',\n",
       "       'CopayInnTier1', 'CopayInnTier2', 'CopayOutofNet', 'CoinsInnTier1',\n",
       "       'CoinsInnTier2', 'CoinsOutofNet', 'IsEHB', 'IsCovered',\n",
       "       'QuantLimitOnSvc', 'LimitQty', 'LimitUnit', 'Explanation',\n",
       "       'IsExclFromInnMOOP', 'IsExclFromOonMOOP'],\n",
       "      dtype='object')"
      ]
     },
     "execution_count": 137,
     "metadata": {},
     "output_type": "execute_result"
    }
   ],
   "source": [
    "benefits2.columns"
   ]
  },
  {
   "cell_type": "code",
   "execution_count": 136,
   "metadata": {},
   "outputs": [],
   "source": [
    "benefits2 = benefits2[['StateCode', 'IssuerId',\n",
    "       'StandardComponentId', 'PlanId', 'BenefitName', 'CopayInnTier1',\n",
    "       'CopayInnTier2', 'CopayOutofNet', 'CoinsInnTier1', 'CoinsInnTier2',\n",
    "       'CoinsOutofNet', 'IsEHB', 'IsCovered', 'QuantLimitOnSvc', 'LimitQty',\n",
    "       'LimitUnit', 'Explanation',\n",
    "       'IsExclFromInnMOOP', 'IsExclFromOonMOOP']]"
   ]
  },
  {
   "cell_type": "code",
   "execution_count": 133,
   "metadata": {},
   "outputs": [
    {
     "data": {
      "text/plain": [
       "No     618451\n",
       "Yes    201993\n",
       "Name: IsExclFromOonMOOP, dtype: int64"
      ]
     },
     "execution_count": 133,
     "metadata": {},
     "output_type": "execute_result"
    }
   ],
   "source": [
    "benefits2[\"IsExclFromOonMOOP\"].value_counts()"
   ]
  },
  {
   "cell_type": "code",
   "execution_count": null,
   "metadata": {},
   "outputs": [],
   "source": []
  },
  {
   "attachments": {},
   "cell_type": "markdown",
   "metadata": {},
   "source": [
    "### Rate PUF\n",
    " Rate-PUF contiene datos a nivel del plan sobre\n",
    "tarifas basadas en la edad, el consumo de tabaco y la ubicación geográfica de un suscriptor elegible; y tarifas de nivel familiar."
   ]
  },
  {
   "cell_type": "code",
   "execution_count": 138,
   "metadata": {},
   "outputs": [],
   "source": [
    "rate = pd.read_csv(\"Rate_PUF.csv\")"
   ]
  },
  {
   "cell_type": "code",
   "execution_count": 139,
   "metadata": {},
   "outputs": [
    {
     "data": {
      "text/html": [
       "<div>\n",
       "<style scoped>\n",
       "    .dataframe tbody tr th:only-of-type {\n",
       "        vertical-align: middle;\n",
       "    }\n",
       "\n",
       "    .dataframe tbody tr th {\n",
       "        vertical-align: top;\n",
       "    }\n",
       "\n",
       "    .dataframe thead th {\n",
       "        text-align: right;\n",
       "    }\n",
       "</style>\n",
       "<table border=\"1\" class=\"dataframe\">\n",
       "  <thead>\n",
       "    <tr style=\"text-align: right;\">\n",
       "      <th></th>\n",
       "      <th>BusinessYear</th>\n",
       "      <th>StateCode</th>\n",
       "      <th>IssuerId</th>\n",
       "      <th>SourceName</th>\n",
       "      <th>ImportDate</th>\n",
       "      <th>RateEffectiveDate</th>\n",
       "      <th>RateExpirationDate</th>\n",
       "      <th>PlanId</th>\n",
       "      <th>RatingAreaId</th>\n",
       "      <th>Tobacco</th>\n",
       "      <th>Age</th>\n",
       "      <th>IndividualRate</th>\n",
       "      <th>IndividualTobaccoRate</th>\n",
       "      <th>Couple</th>\n",
       "      <th>PrimarySubscriberAndOneDependent</th>\n",
       "      <th>PrimarySubscriberAndTwoDependents</th>\n",
       "      <th>PrimarySubscriberAndThreeOrMoreDependents</th>\n",
       "      <th>CoupleAndOneDependent</th>\n",
       "      <th>CoupleAndTwoDependents</th>\n",
       "      <th>CoupleAndThreeOrMoreDependents</th>\n",
       "    </tr>\n",
       "  </thead>\n",
       "  <tbody>\n",
       "    <tr>\n",
       "      <th>0</th>\n",
       "      <td>2023</td>\n",
       "      <td>AK</td>\n",
       "      <td>21989</td>\n",
       "      <td>HIOS</td>\n",
       "      <td>2022-11-19 01:01:13</td>\n",
       "      <td>2023-10-01</td>\n",
       "      <td>2023-12-31</td>\n",
       "      <td>21989AK0110001</td>\n",
       "      <td>Rating Area 1</td>\n",
       "      <td>NaN</td>\n",
       "      <td>Family Option</td>\n",
       "      <td>76.59</td>\n",
       "      <td>NaN</td>\n",
       "      <td>159.30</td>\n",
       "      <td>183.81</td>\n",
       "      <td>183.81</td>\n",
       "      <td>183.81</td>\n",
       "      <td>274.18</td>\n",
       "      <td>274.18</td>\n",
       "      <td>274.18</td>\n",
       "    </tr>\n",
       "    <tr>\n",
       "      <th>1</th>\n",
       "      <td>2023</td>\n",
       "      <td>AK</td>\n",
       "      <td>21989</td>\n",
       "      <td>HIOS</td>\n",
       "      <td>2022-11-19 01:01:13</td>\n",
       "      <td>2023-01-01</td>\n",
       "      <td>2023-12-31</td>\n",
       "      <td>21989AK0030001</td>\n",
       "      <td>Rating Area 1</td>\n",
       "      <td>No Preference</td>\n",
       "      <td>0-14</td>\n",
       "      <td>63.00</td>\n",
       "      <td>NaN</td>\n",
       "      <td>NaN</td>\n",
       "      <td>NaN</td>\n",
       "      <td>NaN</td>\n",
       "      <td>NaN</td>\n",
       "      <td>NaN</td>\n",
       "      <td>NaN</td>\n",
       "      <td>NaN</td>\n",
       "    </tr>\n",
       "    <tr>\n",
       "      <th>2</th>\n",
       "      <td>2023</td>\n",
       "      <td>AK</td>\n",
       "      <td>21989</td>\n",
       "      <td>HIOS</td>\n",
       "      <td>2022-11-19 01:01:13</td>\n",
       "      <td>2023-01-01</td>\n",
       "      <td>2023-03-31</td>\n",
       "      <td>21989AK0110001</td>\n",
       "      <td>Rating Area 1</td>\n",
       "      <td>NaN</td>\n",
       "      <td>Family Option</td>\n",
       "      <td>73.82</td>\n",
       "      <td>NaN</td>\n",
       "      <td>153.54</td>\n",
       "      <td>177.16</td>\n",
       "      <td>177.16</td>\n",
       "      <td>177.16</td>\n",
       "      <td>264.27</td>\n",
       "      <td>264.27</td>\n",
       "      <td>264.27</td>\n",
       "    </tr>\n",
       "    <tr>\n",
       "      <th>3</th>\n",
       "      <td>2023</td>\n",
       "      <td>AK</td>\n",
       "      <td>21989</td>\n",
       "      <td>HIOS</td>\n",
       "      <td>2022-11-19 01:01:13</td>\n",
       "      <td>2023-04-01</td>\n",
       "      <td>2023-06-30</td>\n",
       "      <td>21989AK0110001</td>\n",
       "      <td>Rating Area 1</td>\n",
       "      <td>NaN</td>\n",
       "      <td>Family Option</td>\n",
       "      <td>74.74</td>\n",
       "      <td>NaN</td>\n",
       "      <td>155.46</td>\n",
       "      <td>179.38</td>\n",
       "      <td>179.38</td>\n",
       "      <td>179.38</td>\n",
       "      <td>267.57</td>\n",
       "      <td>267.57</td>\n",
       "      <td>267.57</td>\n",
       "    </tr>\n",
       "    <tr>\n",
       "      <th>4</th>\n",
       "      <td>2023</td>\n",
       "      <td>AK</td>\n",
       "      <td>21989</td>\n",
       "      <td>HIOS</td>\n",
       "      <td>2022-11-19 01:01:13</td>\n",
       "      <td>2023-07-01</td>\n",
       "      <td>2023-09-30</td>\n",
       "      <td>21989AK0110001</td>\n",
       "      <td>Rating Area 1</td>\n",
       "      <td>NaN</td>\n",
       "      <td>Family Option</td>\n",
       "      <td>75.66</td>\n",
       "      <td>NaN</td>\n",
       "      <td>157.38</td>\n",
       "      <td>181.59</td>\n",
       "      <td>181.59</td>\n",
       "      <td>181.59</td>\n",
       "      <td>270.87</td>\n",
       "      <td>270.87</td>\n",
       "      <td>270.87</td>\n",
       "    </tr>\n",
       "  </tbody>\n",
       "</table>\n",
       "</div>"
      ],
      "text/plain": [
       "   BusinessYear StateCode  IssuerId SourceName           ImportDate  \\\n",
       "0          2023        AK     21989       HIOS  2022-11-19 01:01:13   \n",
       "1          2023        AK     21989       HIOS  2022-11-19 01:01:13   \n",
       "2          2023        AK     21989       HIOS  2022-11-19 01:01:13   \n",
       "3          2023        AK     21989       HIOS  2022-11-19 01:01:13   \n",
       "4          2023        AK     21989       HIOS  2022-11-19 01:01:13   \n",
       "\n",
       "  RateEffectiveDate RateExpirationDate          PlanId   RatingAreaId  \\\n",
       "0        2023-10-01         2023-12-31  21989AK0110001  Rating Area 1   \n",
       "1        2023-01-01         2023-12-31  21989AK0030001  Rating Area 1   \n",
       "2        2023-01-01         2023-03-31  21989AK0110001  Rating Area 1   \n",
       "3        2023-04-01         2023-06-30  21989AK0110001  Rating Area 1   \n",
       "4        2023-07-01         2023-09-30  21989AK0110001  Rating Area 1   \n",
       "\n",
       "         Tobacco            Age  IndividualRate  IndividualTobaccoRate  \\\n",
       "0            NaN  Family Option           76.59                    NaN   \n",
       "1  No Preference           0-14           63.00                    NaN   \n",
       "2            NaN  Family Option           73.82                    NaN   \n",
       "3            NaN  Family Option           74.74                    NaN   \n",
       "4            NaN  Family Option           75.66                    NaN   \n",
       "\n",
       "   Couple  PrimarySubscriberAndOneDependent  \\\n",
       "0  159.30                            183.81   \n",
       "1     NaN                               NaN   \n",
       "2  153.54                            177.16   \n",
       "3  155.46                            179.38   \n",
       "4  157.38                            181.59   \n",
       "\n",
       "   PrimarySubscriberAndTwoDependents  \\\n",
       "0                             183.81   \n",
       "1                                NaN   \n",
       "2                             177.16   \n",
       "3                             179.38   \n",
       "4                             181.59   \n",
       "\n",
       "   PrimarySubscriberAndThreeOrMoreDependents  CoupleAndOneDependent  \\\n",
       "0                                     183.81                 274.18   \n",
       "1                                        NaN                    NaN   \n",
       "2                                     177.16                 264.27   \n",
       "3                                     179.38                 267.57   \n",
       "4                                     181.59                 270.87   \n",
       "\n",
       "   CoupleAndTwoDependents  CoupleAndThreeOrMoreDependents  \n",
       "0                  274.18                          274.18  \n",
       "1                     NaN                             NaN  \n",
       "2                  264.27                          264.27  \n",
       "3                  267.57                          267.57  \n",
       "4                  270.87                          270.87  "
      ]
     },
     "execution_count": 139,
     "metadata": {},
     "output_type": "execute_result"
    }
   ],
   "source": [
    "rate.head()"
   ]
  },
  {
   "cell_type": "code",
   "execution_count": 142,
   "metadata": {},
   "outputs": [
    {
     "data": {
      "text/plain": [
       "Index(['BusinessYear', 'StateCode', 'IssuerId', 'SourceName', 'ImportDate',\n",
       "       'RateEffectiveDate', 'RateExpirationDate', 'PlanId', 'RatingAreaId',\n",
       "       'Tobacco', 'Age', 'IndividualRate', 'IndividualTobaccoRate', 'Couple',\n",
       "       'PrimarySubscriberAndOneDependent', 'PrimarySubscriberAndTwoDependents',\n",
       "       'PrimarySubscriberAndThreeOrMoreDependents', 'CoupleAndOneDependent',\n",
       "       'CoupleAndTwoDependents', 'CoupleAndThreeOrMoreDependents'],\n",
       "      dtype='object')"
      ]
     },
     "execution_count": 142,
     "metadata": {},
     "output_type": "execute_result"
    }
   ],
   "source": [
    "rate.columns"
   ]
  },
  {
   "attachments": {},
   "cell_type": "markdown",
   "metadata": {},
   "source": [
    "##### Columnas a eliminar\n",
    "BusinessYear - SourceName - ImportDate - RatingAreaId - Tobacco - IndividualTobaccoRate - \n",
    "\n",
    "##### Consideraciones\n",
    "- Filtrar StateCode\n"
   ]
  },
  {
   "cell_type": "code",
   "execution_count": 153,
   "metadata": {},
   "outputs": [],
   "source": [
    "rate2 = rate[['StateCode', 'IssuerId',\n",
    "       'RateEffectiveDate', 'RateExpirationDate', 'PlanId',\n",
    "       'Age', 'IndividualRate', 'Couple',\n",
    "       'PrimarySubscriberAndOneDependent', 'PrimarySubscriberAndTwoDependents',\n",
    "       'PrimarySubscriberAndThreeOrMoreDependents', 'CoupleAndOneDependent',\n",
    "       'CoupleAndTwoDependents', 'CoupleAndThreeOrMoreDependents']]"
   ]
  },
  {
   "cell_type": "code",
   "execution_count": 155,
   "metadata": {},
   "outputs": [],
   "source": [
    "rate2 = rate2[rate2[\"StateCode\"].isin([\"TX\", \"FL\", \"NY\", \"PA\", \"IL\", \"OH\", \"GA\", \"NC\", \"MI\", \"CA\"])] #NY PA CA"
   ]
  },
  {
   "cell_type": "code",
   "execution_count": 156,
   "metadata": {},
   "outputs": [
    {
     "data": {
      "text/plain": [
       "StateCode                                         7\n",
       "IssuerId                                        170\n",
       "RateEffectiveDate                                 4\n",
       "RateExpirationDate                                4\n",
       "PlanId                                         3576\n",
       "Age                                              52\n",
       "IndividualRate                               143397\n",
       "Couple                                           56\n",
       "PrimarySubscriberAndOneDependent                 59\n",
       "PrimarySubscriberAndTwoDependents                59\n",
       "PrimarySubscriberAndThreeOrMoreDependents        59\n",
       "CoupleAndOneDependent                            59\n",
       "CoupleAndTwoDependents                           59\n",
       "CoupleAndThreeOrMoreDependents                   59\n",
       "dtype: int64"
      ]
     },
     "execution_count": 156,
     "metadata": {},
     "output_type": "execute_result"
    }
   ],
   "source": [
    "rate2.nunique()"
   ]
  },
  {
   "cell_type": "code",
   "execution_count": 157,
   "metadata": {},
   "outputs": [
    {
     "data": {
      "text/plain": [
       "(1580741, 14)"
      ]
     },
     "execution_count": 157,
     "metadata": {},
     "output_type": "execute_result"
    }
   ],
   "source": [
    "rate2.shape"
   ]
  },
  {
   "cell_type": "code",
   "execution_count": 146,
   "metadata": {},
   "outputs": [
    {
     "data": {
      "text/plain": [
       "BusinessYear                                       0\n",
       "StateCode                                          0\n",
       "IssuerId                                           0\n",
       "SourceName                                         0\n",
       "ImportDate                                         0\n",
       "RateEffectiveDate                                  0\n",
       "RateExpirationDate                                 0\n",
       "PlanId                                             0\n",
       "RatingAreaId                                       0\n",
       "Tobacco                                          991\n",
       "Age                                                0\n",
       "IndividualRate                                     0\n",
       "IndividualTobaccoRate                        1317760\n",
       "Couple                                       2751450\n",
       "PrimarySubscriberAndOneDependent             2751450\n",
       "PrimarySubscriberAndTwoDependents            2751450\n",
       "PrimarySubscriberAndThreeOrMoreDependents    2751450\n",
       "CoupleAndOneDependent                        2751450\n",
       "CoupleAndTwoDependents                       2751450\n",
       "CoupleAndThreeOrMoreDependents               2751450\n",
       "dtype: int64"
      ]
     },
     "execution_count": 146,
     "metadata": {},
     "output_type": "execute_result"
    }
   ],
   "source": [
    "rate.isnull().sum()"
   ]
  },
  {
   "attachments": {},
   "cell_type": "markdown",
   "metadata": {},
   "source": [
    "### Plan Attributes\n",
    "El Plan-PUF contiene datos de\n",
    "nivel de variante del plan sobre pagos máximos de bolsillo, deducibles, elegibilidad de cuenta de ahorros para la salud (HSA) y otros\n",
    "atributos del plan."
   ]
  },
  {
   "cell_type": "code",
   "execution_count": 3,
   "metadata": {},
   "outputs": [
    {
     "name": "stderr",
     "output_type": "stream",
     "text": [
      "C:\\Users\\yanet\\AppData\\Local\\Temp\\ipykernel_26088\\3861117024.py:1: DtypeWarning: Columns (27,64,80,81,82,86,87,88,89,90,91,111,122,123,124,125,147,148) have mixed types. Specify dtype option on import or set low_memory=False.\n",
      "  attributes = pd.read_csv(\"Plan_Attributes_PUF.csv\")\n"
     ]
    }
   ],
   "source": [
    "attributes = pd.read_csv(\"Plan_Attributes_PUF.csv\")"
   ]
  },
  {
   "cell_type": "code",
   "execution_count": 4,
   "metadata": {},
   "outputs": [
    {
     "data": {
      "text/plain": [
       "Index(['BusinessYear', 'StateCode', 'IssuerId',\n",
       "       'IssuerMarketPlaceMarketingName', 'SourceName', 'ImportDate',\n",
       "       'MarketCoverage', 'DentalOnlyPlan', 'StandardComponentId',\n",
       "       'PlanMarketingName',\n",
       "       ...\n",
       "       'TEHBDedOutOfNetFamilyPerPerson', 'TEHBDedOutOfNetFamilyPerGroup',\n",
       "       'TEHBDedCombInnOonIndividual', 'TEHBDedCombInnOonFamilyPerPerson',\n",
       "       'TEHBDedCombInnOonFamilyPerGroup', 'IsHSAEligible',\n",
       "       'HSAOrHRAEmployerContribution', 'HSAOrHRAEmployerContributionAmount',\n",
       "       'URLForSummaryofBenefitsCoverage', 'PlanBrochure'],\n",
       "      dtype='object', length=151)"
      ]
     },
     "execution_count": 4,
     "metadata": {},
     "output_type": "execute_result"
    }
   ],
   "source": [
    "attributes.columns"
   ]
  },
  {
   "cell_type": "code",
   "execution_count": 5,
   "metadata": {},
   "outputs": [
    {
     "data": {
      "text/plain": [
       "(32528, 151)"
      ]
     },
     "execution_count": 5,
     "metadata": {},
     "output_type": "execute_result"
    }
   ],
   "source": [
    "attributes.shape"
   ]
  },
  {
   "cell_type": "code",
   "execution_count": 6,
   "metadata": {},
   "outputs": [
    {
     "data": {
      "text/html": [
       "<div>\n",
       "<style scoped>\n",
       "    .dataframe tbody tr th:only-of-type {\n",
       "        vertical-align: middle;\n",
       "    }\n",
       "\n",
       "    .dataframe tbody tr th {\n",
       "        vertical-align: top;\n",
       "    }\n",
       "\n",
       "    .dataframe thead th {\n",
       "        text-align: right;\n",
       "    }\n",
       "</style>\n",
       "<table border=\"1\" class=\"dataframe\">\n",
       "  <thead>\n",
       "    <tr style=\"text-align: right;\">\n",
       "      <th></th>\n",
       "      <th>BusinessYear</th>\n",
       "      <th>StateCode</th>\n",
       "      <th>IssuerId</th>\n",
       "      <th>IssuerMarketPlaceMarketingName</th>\n",
       "      <th>SourceName</th>\n",
       "      <th>ImportDate</th>\n",
       "      <th>MarketCoverage</th>\n",
       "      <th>DentalOnlyPlan</th>\n",
       "      <th>StandardComponentId</th>\n",
       "      <th>PlanMarketingName</th>\n",
       "      <th>...</th>\n",
       "      <th>TEHBDedOutOfNetFamilyPerPerson</th>\n",
       "      <th>TEHBDedOutOfNetFamilyPerGroup</th>\n",
       "      <th>TEHBDedCombInnOonIndividual</th>\n",
       "      <th>TEHBDedCombInnOonFamilyPerPerson</th>\n",
       "      <th>TEHBDedCombInnOonFamilyPerGroup</th>\n",
       "      <th>IsHSAEligible</th>\n",
       "      <th>HSAOrHRAEmployerContribution</th>\n",
       "      <th>HSAOrHRAEmployerContributionAmount</th>\n",
       "      <th>URLForSummaryofBenefitsCoverage</th>\n",
       "      <th>PlanBrochure</th>\n",
       "    </tr>\n",
       "  </thead>\n",
       "  <tbody>\n",
       "    <tr>\n",
       "      <th>0</th>\n",
       "      <td>2023</td>\n",
       "      <td>AK</td>\n",
       "      <td>21989</td>\n",
       "      <td>Delta Dental of Alaska</td>\n",
       "      <td>HIOS</td>\n",
       "      <td>11/19/2022 1:01</td>\n",
       "      <td>Individual</td>\n",
       "      <td>Yes</td>\n",
       "      <td>21989AK0030001</td>\n",
       "      <td>Delta Dental Premier Plan</td>\n",
       "      <td>...</td>\n",
       "      <td>NaN</td>\n",
       "      <td>NaN</td>\n",
       "      <td>NaN</td>\n",
       "      <td>NaN</td>\n",
       "      <td>NaN</td>\n",
       "      <td>NaN</td>\n",
       "      <td>NaN</td>\n",
       "      <td>NaN</td>\n",
       "      <td></td>\n",
       "      <td>https://www.deltadentalak.com/-/media/deltaden...</td>\n",
       "    </tr>\n",
       "    <tr>\n",
       "      <th>1</th>\n",
       "      <td>2023</td>\n",
       "      <td>AK</td>\n",
       "      <td>21989</td>\n",
       "      <td>Delta Dental of Alaska</td>\n",
       "      <td>HIOS</td>\n",
       "      <td>11/19/2022 1:01</td>\n",
       "      <td>Individual</td>\n",
       "      <td>Yes</td>\n",
       "      <td>21989AK0030001</td>\n",
       "      <td>Delta Dental Premier Plan</td>\n",
       "      <td>...</td>\n",
       "      <td>NaN</td>\n",
       "      <td>NaN</td>\n",
       "      <td>NaN</td>\n",
       "      <td>NaN</td>\n",
       "      <td>NaN</td>\n",
       "      <td>NaN</td>\n",
       "      <td>NaN</td>\n",
       "      <td>NaN</td>\n",
       "      <td></td>\n",
       "      <td>https://www.deltadentalak.com/-/media/deltaden...</td>\n",
       "    </tr>\n",
       "    <tr>\n",
       "      <th>2</th>\n",
       "      <td>2023</td>\n",
       "      <td>AK</td>\n",
       "      <td>21989</td>\n",
       "      <td>Delta Dental of Alaska</td>\n",
       "      <td>HIOS</td>\n",
       "      <td>11/19/2022 1:01</td>\n",
       "      <td>SHOP (Small Group)</td>\n",
       "      <td>Yes</td>\n",
       "      <td>21989AK0030051</td>\n",
       "      <td>Delta Dental Premier, +1500, 100*/80/50, 50, PF</td>\n",
       "      <td>...</td>\n",
       "      <td>NaN</td>\n",
       "      <td>NaN</td>\n",
       "      <td>NaN</td>\n",
       "      <td>NaN</td>\n",
       "      <td>NaN</td>\n",
       "      <td>NaN</td>\n",
       "      <td>NaN</td>\n",
       "      <td>NaN</td>\n",
       "      <td></td>\n",
       "      <td>https://www.deltadentalak.com/-/media/deltaden...</td>\n",
       "    </tr>\n",
       "    <tr>\n",
       "      <th>3</th>\n",
       "      <td>2023</td>\n",
       "      <td>AK</td>\n",
       "      <td>21989</td>\n",
       "      <td>Delta Dental of Alaska</td>\n",
       "      <td>HIOS</td>\n",
       "      <td>11/19/2022 1:01</td>\n",
       "      <td>SHOP (Small Group)</td>\n",
       "      <td>Yes</td>\n",
       "      <td>21989AK0030052</td>\n",
       "      <td>Delta Dental Premier, +1000, 100*/80/50, 50, PF</td>\n",
       "      <td>...</td>\n",
       "      <td>NaN</td>\n",
       "      <td>NaN</td>\n",
       "      <td>NaN</td>\n",
       "      <td>NaN</td>\n",
       "      <td>NaN</td>\n",
       "      <td>NaN</td>\n",
       "      <td>NaN</td>\n",
       "      <td>NaN</td>\n",
       "      <td></td>\n",
       "      <td>https://www.deltadentalak.com/-/media/deltaden...</td>\n",
       "    </tr>\n",
       "    <tr>\n",
       "      <th>4</th>\n",
       "      <td>2023</td>\n",
       "      <td>AK</td>\n",
       "      <td>21989</td>\n",
       "      <td>Delta Dental of Alaska</td>\n",
       "      <td>HIOS</td>\n",
       "      <td>11/19/2022 1:01</td>\n",
       "      <td>SHOP (Small Group)</td>\n",
       "      <td>Yes</td>\n",
       "      <td>21989AK0040051</td>\n",
       "      <td>PPO Plus 1</td>\n",
       "      <td>...</td>\n",
       "      <td>NaN</td>\n",
       "      <td>NaN</td>\n",
       "      <td>NaN</td>\n",
       "      <td>NaN</td>\n",
       "      <td>NaN</td>\n",
       "      <td>NaN</td>\n",
       "      <td>NaN</td>\n",
       "      <td>NaN</td>\n",
       "      <td></td>\n",
       "      <td>https://www.deltadentalak.com/-/media/deltaden...</td>\n",
       "    </tr>\n",
       "  </tbody>\n",
       "</table>\n",
       "<p>5 rows × 151 columns</p>\n",
       "</div>"
      ],
      "text/plain": [
       "   BusinessYear StateCode  IssuerId IssuerMarketPlaceMarketingName SourceName  \\\n",
       "0          2023        AK     21989         Delta Dental of Alaska       HIOS   \n",
       "1          2023        AK     21989         Delta Dental of Alaska       HIOS   \n",
       "2          2023        AK     21989         Delta Dental of Alaska       HIOS   \n",
       "3          2023        AK     21989         Delta Dental of Alaska       HIOS   \n",
       "4          2023        AK     21989         Delta Dental of Alaska       HIOS   \n",
       "\n",
       "        ImportDate      MarketCoverage DentalOnlyPlan StandardComponentId  \\\n",
       "0  11/19/2022 1:01          Individual            Yes      21989AK0030001   \n",
       "1  11/19/2022 1:01          Individual            Yes      21989AK0030001   \n",
       "2  11/19/2022 1:01  SHOP (Small Group)            Yes      21989AK0030051   \n",
       "3  11/19/2022 1:01  SHOP (Small Group)            Yes      21989AK0030052   \n",
       "4  11/19/2022 1:01  SHOP (Small Group)            Yes      21989AK0040051   \n",
       "\n",
       "                                 PlanMarketingName  ...  \\\n",
       "0                        Delta Dental Premier Plan  ...   \n",
       "1                        Delta Dental Premier Plan  ...   \n",
       "2  Delta Dental Premier, +1500, 100*/80/50, 50, PF  ...   \n",
       "3  Delta Dental Premier, +1000, 100*/80/50, 50, PF  ...   \n",
       "4                                       PPO Plus 1  ...   \n",
       "\n",
       "  TEHBDedOutOfNetFamilyPerPerson TEHBDedOutOfNetFamilyPerGroup  \\\n",
       "0                            NaN                           NaN   \n",
       "1                            NaN                           NaN   \n",
       "2                            NaN                           NaN   \n",
       "3                            NaN                           NaN   \n",
       "4                            NaN                           NaN   \n",
       "\n",
       "  TEHBDedCombInnOonIndividual TEHBDedCombInnOonFamilyPerPerson  \\\n",
       "0                         NaN                              NaN   \n",
       "1                         NaN                              NaN   \n",
       "2                         NaN                              NaN   \n",
       "3                         NaN                              NaN   \n",
       "4                         NaN                              NaN   \n",
       "\n",
       "  TEHBDedCombInnOonFamilyPerGroup IsHSAEligible HSAOrHRAEmployerContribution  \\\n",
       "0                             NaN           NaN                          NaN   \n",
       "1                             NaN           NaN                          NaN   \n",
       "2                             NaN           NaN                          NaN   \n",
       "3                             NaN           NaN                          NaN   \n",
       "4                             NaN           NaN                          NaN   \n",
       "\n",
       "  HSAOrHRAEmployerContributionAmount URLForSummaryofBenefitsCoverage  \\\n",
       "0                                NaN                                   \n",
       "1                                NaN                                   \n",
       "2                                NaN                                   \n",
       "3                                NaN                                   \n",
       "4                                NaN                                   \n",
       "\n",
       "                                        PlanBrochure  \n",
       "0  https://www.deltadentalak.com/-/media/deltaden...  \n",
       "1  https://www.deltadentalak.com/-/media/deltaden...  \n",
       "2  https://www.deltadentalak.com/-/media/deltaden...  \n",
       "3  https://www.deltadentalak.com/-/media/deltaden...  \n",
       "4  https://www.deltadentalak.com/-/media/deltaden...  \n",
       "\n",
       "[5 rows x 151 columns]"
      ]
     },
     "execution_count": 6,
     "metadata": {},
     "output_type": "execute_result"
    }
   ],
   "source": [
    "attributes.head()"
   ]
  },
  {
   "cell_type": "code",
   "execution_count": 7,
   "metadata": {},
   "outputs": [],
   "source": [
    "a = pd.DataFrame(attributes.isna().sum())"
   ]
  },
  {
   "cell_type": "code",
   "execution_count": 102,
   "metadata": {},
   "outputs": [
    {
     "data": {
      "text/plain": [
       "StateCode                33\n",
       "StandardComponentId    6366\n",
       "PlanMarketingName      3057\n",
       "NetworkId               143\n",
       "ServiceAreaId           255\n",
       "PlanType                  4\n",
       "MetalLevel                6\n",
       "dtype: int64"
      ]
     },
     "execution_count": 102,
     "metadata": {},
     "output_type": "execute_result"
    }
   ],
   "source": [
    "attributes2.nunique()"
   ]
  },
  {
   "cell_type": "code",
   "execution_count": 68,
   "metadata": {},
   "outputs": [],
   "source": [
    "attributes2 = attributes[attributes[\"DentalOnlyPlan\"]==\"No\"]"
   ]
  },
  {
   "cell_type": "code",
   "execution_count": 69,
   "metadata": {},
   "outputs": [
    {
     "data": {
      "text/html": [
       "<div>\n",
       "<style scoped>\n",
       "    .dataframe tbody tr th:only-of-type {\n",
       "        vertical-align: middle;\n",
       "    }\n",
       "\n",
       "    .dataframe tbody tr th {\n",
       "        vertical-align: top;\n",
       "    }\n",
       "\n",
       "    .dataframe thead th {\n",
       "        text-align: right;\n",
       "    }\n",
       "</style>\n",
       "<table border=\"1\" class=\"dataframe\">\n",
       "  <thead>\n",
       "    <tr style=\"text-align: right;\">\n",
       "      <th></th>\n",
       "      <th>BusinessYear</th>\n",
       "      <th>StateCode</th>\n",
       "      <th>IssuerId</th>\n",
       "      <th>IssuerMarketPlaceMarketingName</th>\n",
       "      <th>SourceName</th>\n",
       "      <th>ImportDate</th>\n",
       "      <th>MarketCoverage</th>\n",
       "      <th>DentalOnlyPlan</th>\n",
       "      <th>StandardComponentId</th>\n",
       "      <th>PlanMarketingName</th>\n",
       "      <th>...</th>\n",
       "      <th>TEHBDedOutOfNetFamilyPerPerson</th>\n",
       "      <th>TEHBDedOutOfNetFamilyPerGroup</th>\n",
       "      <th>TEHBDedCombInnOonIndividual</th>\n",
       "      <th>TEHBDedCombInnOonFamilyPerPerson</th>\n",
       "      <th>TEHBDedCombInnOonFamilyPerGroup</th>\n",
       "      <th>IsHSAEligible</th>\n",
       "      <th>HSAOrHRAEmployerContribution</th>\n",
       "      <th>HSAOrHRAEmployerContributionAmount</th>\n",
       "      <th>URLForSummaryofBenefitsCoverage</th>\n",
       "      <th>PlanBrochure</th>\n",
       "    </tr>\n",
       "  </thead>\n",
       "  <tbody>\n",
       "    <tr>\n",
       "      <th>29</th>\n",
       "      <td>2023</td>\n",
       "      <td>AK</td>\n",
       "      <td>38344</td>\n",
       "      <td>Premera Blue Cross Blue Shield of Alaska</td>\n",
       "      <td>HIOS</td>\n",
       "      <td>12/20/2022 1:00</td>\n",
       "      <td>Individual</td>\n",
       "      <td>No</td>\n",
       "      <td>38344AK1060001</td>\n",
       "      <td>Premera Blue Cross Preferred Gold 1500</td>\n",
       "      <td>...</td>\n",
       "      <td>$3000 per person</td>\n",
       "      <td>per group not applicable</td>\n",
       "      <td>Not Applicable</td>\n",
       "      <td>per person not applicable</td>\n",
       "      <td>per group not applicable</td>\n",
       "      <td>No</td>\n",
       "      <td>NaN</td>\n",
       "      <td>NaN</td>\n",
       "      <td>https://www.premera.com/documents/045634_2023.pdf</td>\n",
       "      <td>https://www.premera.com/documents/031040_2023.pdf</td>\n",
       "    </tr>\n",
       "    <tr>\n",
       "      <th>30</th>\n",
       "      <td>2023</td>\n",
       "      <td>AK</td>\n",
       "      <td>38344</td>\n",
       "      <td>Premera Blue Cross Blue Shield of Alaska</td>\n",
       "      <td>HIOS</td>\n",
       "      <td>12/20/2022 1:00</td>\n",
       "      <td>Individual</td>\n",
       "      <td>No</td>\n",
       "      <td>38344AK1060001</td>\n",
       "      <td>Premera Blue Cross Preferred Gold 1500</td>\n",
       "      <td>...</td>\n",
       "      <td>$0 per person</td>\n",
       "      <td>$0 per group</td>\n",
       "      <td>$0</td>\n",
       "      <td>$0 per person</td>\n",
       "      <td>$0 per group</td>\n",
       "      <td>No</td>\n",
       "      <td>NaN</td>\n",
       "      <td>NaN</td>\n",
       "      <td>https://www.premera.com/documents/045633_2023.pdf</td>\n",
       "      <td>https://www.premera.com/documents/031040_2023.pdf</td>\n",
       "    </tr>\n",
       "    <tr>\n",
       "      <th>31</th>\n",
       "      <td>2023</td>\n",
       "      <td>AK</td>\n",
       "      <td>38344</td>\n",
       "      <td>Premera Blue Cross Blue Shield of Alaska</td>\n",
       "      <td>HIOS</td>\n",
       "      <td>12/20/2022 1:00</td>\n",
       "      <td>Individual</td>\n",
       "      <td>No</td>\n",
       "      <td>38344AK1060001</td>\n",
       "      <td>Premera Blue Cross Preferred Gold 1500</td>\n",
       "      <td>...</td>\n",
       "      <td>$3000 per person</td>\n",
       "      <td>per group not applicable</td>\n",
       "      <td>Not Applicable</td>\n",
       "      <td>per person not applicable</td>\n",
       "      <td>per group not applicable</td>\n",
       "      <td>No</td>\n",
       "      <td>NaN</td>\n",
       "      <td>NaN</td>\n",
       "      <td>https://www.premera.com/documents/045632_2023.pdf</td>\n",
       "      <td>https://www.premera.com/documents/031112_2023.pdf</td>\n",
       "    </tr>\n",
       "    <tr>\n",
       "      <th>32</th>\n",
       "      <td>2023</td>\n",
       "      <td>AK</td>\n",
       "      <td>38344</td>\n",
       "      <td>Premera Blue Cross Blue Shield of Alaska</td>\n",
       "      <td>HIOS</td>\n",
       "      <td>12/20/2022 1:00</td>\n",
       "      <td>Individual</td>\n",
       "      <td>No</td>\n",
       "      <td>38344AK1060002</td>\n",
       "      <td>Premera Blue Cross Preferred Silver 4500</td>\n",
       "      <td>...</td>\n",
       "      <td>$9000 per person</td>\n",
       "      <td>per group not applicable</td>\n",
       "      <td>Not Applicable</td>\n",
       "      <td>per person not applicable</td>\n",
       "      <td>per group not applicable</td>\n",
       "      <td>No</td>\n",
       "      <td>NaN</td>\n",
       "      <td>NaN</td>\n",
       "      <td>https://www.premera.com/documents/045637_2023.pdf</td>\n",
       "      <td>https://www.premera.com/documents/031040_2023.pdf</td>\n",
       "    </tr>\n",
       "    <tr>\n",
       "      <th>33</th>\n",
       "      <td>2023</td>\n",
       "      <td>AK</td>\n",
       "      <td>38344</td>\n",
       "      <td>Premera Blue Cross Blue Shield of Alaska</td>\n",
       "      <td>HIOS</td>\n",
       "      <td>12/20/2022 1:00</td>\n",
       "      <td>Individual</td>\n",
       "      <td>No</td>\n",
       "      <td>38344AK1060002</td>\n",
       "      <td>Premera Blue Cross Preferred Silver 4500</td>\n",
       "      <td>...</td>\n",
       "      <td>$2400 per person</td>\n",
       "      <td>per group not applicable</td>\n",
       "      <td>Not Applicable</td>\n",
       "      <td>per person not applicable</td>\n",
       "      <td>per group not applicable</td>\n",
       "      <td>No</td>\n",
       "      <td>NaN</td>\n",
       "      <td>NaN</td>\n",
       "      <td>https://www.premera.com/documents/045639_2023.pdf</td>\n",
       "      <td>https://www.premera.com/documents/031112_2023.pdf</td>\n",
       "    </tr>\n",
       "  </tbody>\n",
       "</table>\n",
       "<p>5 rows × 151 columns</p>\n",
       "</div>"
      ],
      "text/plain": [
       "    BusinessYear StateCode  IssuerId  \\\n",
       "29          2023        AK     38344   \n",
       "30          2023        AK     38344   \n",
       "31          2023        AK     38344   \n",
       "32          2023        AK     38344   \n",
       "33          2023        AK     38344   \n",
       "\n",
       "              IssuerMarketPlaceMarketingName SourceName       ImportDate  \\\n",
       "29  Premera Blue Cross Blue Shield of Alaska       HIOS  12/20/2022 1:00   \n",
       "30  Premera Blue Cross Blue Shield of Alaska       HIOS  12/20/2022 1:00   \n",
       "31  Premera Blue Cross Blue Shield of Alaska       HIOS  12/20/2022 1:00   \n",
       "32  Premera Blue Cross Blue Shield of Alaska       HIOS  12/20/2022 1:00   \n",
       "33  Premera Blue Cross Blue Shield of Alaska       HIOS  12/20/2022 1:00   \n",
       "\n",
       "   MarketCoverage DentalOnlyPlan StandardComponentId  \\\n",
       "29     Individual             No      38344AK1060001   \n",
       "30     Individual             No      38344AK1060001   \n",
       "31     Individual             No      38344AK1060001   \n",
       "32     Individual             No      38344AK1060002   \n",
       "33     Individual             No      38344AK1060002   \n",
       "\n",
       "                           PlanMarketingName  ...  \\\n",
       "29    Premera Blue Cross Preferred Gold 1500  ...   \n",
       "30    Premera Blue Cross Preferred Gold 1500  ...   \n",
       "31    Premera Blue Cross Preferred Gold 1500  ...   \n",
       "32  Premera Blue Cross Preferred Silver 4500  ...   \n",
       "33  Premera Blue Cross Preferred Silver 4500  ...   \n",
       "\n",
       "   TEHBDedOutOfNetFamilyPerPerson TEHBDedOutOfNetFamilyPerGroup  \\\n",
       "29               $3000 per person      per group not applicable   \n",
       "30                  $0 per person                  $0 per group   \n",
       "31               $3000 per person      per group not applicable   \n",
       "32               $9000 per person      per group not applicable   \n",
       "33               $2400 per person      per group not applicable   \n",
       "\n",
       "   TEHBDedCombInnOonIndividual TEHBDedCombInnOonFamilyPerPerson  \\\n",
       "29              Not Applicable        per person not applicable   \n",
       "30                         $0                     $0 per person   \n",
       "31              Not Applicable        per person not applicable   \n",
       "32              Not Applicable        per person not applicable   \n",
       "33              Not Applicable        per person not applicable   \n",
       "\n",
       "   TEHBDedCombInnOonFamilyPerGroup IsHSAEligible HSAOrHRAEmployerContribution  \\\n",
       "29        per group not applicable            No                          NaN   \n",
       "30                    $0 per group            No                          NaN   \n",
       "31        per group not applicable            No                          NaN   \n",
       "32        per group not applicable            No                          NaN   \n",
       "33        per group not applicable            No                          NaN   \n",
       "\n",
       "   HSAOrHRAEmployerContributionAmount  \\\n",
       "29                                NaN   \n",
       "30                                NaN   \n",
       "31                                NaN   \n",
       "32                                NaN   \n",
       "33                                NaN   \n",
       "\n",
       "                      URLForSummaryofBenefitsCoverage  \\\n",
       "29  https://www.premera.com/documents/045634_2023.pdf   \n",
       "30  https://www.premera.com/documents/045633_2023.pdf   \n",
       "31  https://www.premera.com/documents/045632_2023.pdf   \n",
       "32  https://www.premera.com/documents/045637_2023.pdf   \n",
       "33  https://www.premera.com/documents/045639_2023.pdf   \n",
       "\n",
       "                                         PlanBrochure  \n",
       "29  https://www.premera.com/documents/031040_2023.pdf  \n",
       "30  https://www.premera.com/documents/031040_2023.pdf  \n",
       "31  https://www.premera.com/documents/031112_2023.pdf  \n",
       "32  https://www.premera.com/documents/031040_2023.pdf  \n",
       "33  https://www.premera.com/documents/031112_2023.pdf  \n",
       "\n",
       "[5 rows x 151 columns]"
      ]
     },
     "execution_count": 69,
     "metadata": {},
     "output_type": "execute_result"
    }
   ],
   "source": [
    "attributes2.head()"
   ]
  },
  {
   "cell_type": "code",
   "execution_count": 70,
   "metadata": {},
   "outputs": [
    {
     "data": {
      "text/plain": [
       "$0          17268\n",
       "$10          3757\n",
       "$200          888\n",
       "$900          868\n",
       "$300          767\n",
       "            ...  \n",
       "$500.00         2\n",
       "$230            2\n",
       "$130            2\n",
       "$4,400          1\n",
       "0               1\n",
       "Name: SBCHavingaBabyCopayment, Length: 89, dtype: int64"
      ]
     },
     "execution_count": 70,
     "metadata": {},
     "output_type": "execute_result"
    }
   ],
   "source": [
    "attributes2[\"SBCHavingaBabyCopayment\"].value_counts()"
   ]
  },
  {
   "cell_type": "code",
   "execution_count": 71,
   "metadata": {},
   "outputs": [
    {
     "data": {
      "text/plain": [
       "100.00%    2072\n",
       "70.15%      165\n",
       "70.12%      162\n",
       "70.02%      140\n",
       "70.06%      138\n",
       "           ... \n",
       "68.90%        1\n",
       "94.80%        1\n",
       "73.42%        1\n",
       "73.88%        1\n",
       "94.50%        1\n",
       "Name: IssuerActuarialValue, Length: 689, dtype: int64"
      ]
     },
     "execution_count": 71,
     "metadata": {},
     "output_type": "execute_result"
    }
   ],
   "source": [
    "attributes2[\"IssuerActuarialValue\"].value_counts()"
   ]
  },
  {
   "cell_type": "code",
   "execution_count": 72,
   "metadata": {},
   "outputs": [],
   "source": [
    "attributes2 = attributes2.loc[:,:'SpecialistRequiringReferral']"
   ]
  },
  {
   "cell_type": "code",
   "execution_count": 73,
   "metadata": {},
   "outputs": [],
   "source": [
    "attributes2 = attributes2.loc[:,~attributes2.columns.isin([\"BusinessYear\",\n",
    "\"IssuerMarketPlaceMarketingName\",\n",
    "\"SourceName\",\n",
    "\"ImportDate\",\n",
    "\"MarketCoverage\",\n",
    "\"DentalOnlyPlan\",\n",
    "\"HIOSProductId\",\n",
    "\"IsNewPlan\",\n",
    "\"QHPNonQHPTypeId\",\n",
    "\"CompositeRatingOffered\",\n",
    "\"PlanEffectiveDate\",\n",
    "\"OutofCountryCoverage\",\n",
    "\"NationalNetwork\",\n",
    "\"URLForEnrollmentPayment\",\n",
    "\"PlanVariantMarketingName\",\n",
    "\"CSRVariationType\",\n",
    "\"MultipleInNetworkTiers\",\n",
    "\"FirstTierUtilization\",\n",
    "\"InpatientCopaymentMaximumDays\",\n",
    "\"BeginPrimaryCareCostSharingAfterNumberOfVisits\",\n",
    "\"BeginPrimaryCareDeductibleCoinsuranceAfterNumberOfCopays\",\n",
    "\"URLForSummaryofBenefitsCoverage\",\n",
    "\"PlanBrochure\",\n",
    "\"WellnessProgramOffered\",\n",
    "\"IsReferralRequiredForSpecialist\",\n",
    "\"FormularyId\",\n",
    "\"UniquePlanDesign\",\n",
    "\"IsNoticeRequiredForPregnacy\",\n",
    "\"FormularyId\",\n",
    "\"MedicalDrugDeductiblesIntegrated\",\n",
    "\"MedicalDrugMaximumOutofPocketIntegrated\",\n",
    "\"IsHSAEligible\",\n",
    "\"DesignType\",\n",
    "\"EHBPercentTotalPremium\",\n",
    "\"AVCalculatorOutputNumber\",\n",
    "\"DiseaseManagementProgramsOffered\",\n",
    "\"OutOfServiceAreaCoverageDescription\",\n",
    "\"PlanExpirationDate\",\n",
    "\"IssuerId\",\n",
    "\"MedicalDrugMaximumOutofPocketIntegrated\",\n",
    "\"SBCHavingaBabyDeductible\",\n",
    "\"SBCHavingaBabyCopayment\",\n",
    "\"SBCHavingaBabyCoinsurance\",\n",
    "\"SBCHavingaBabyLimit\",\n",
    "\"SBCHavingDiabetesDeductible\",\n",
    "\"SBCHavingDiabetesCopayment\",\n",
    "\"SBCHavingDiabetesCoinsurance\",\n",
    "\"SBCHavingDiabetesLimit\",\n",
    "\"SBCHavingSimplefractureDeductible\",\n",
    "\"SBCHavingSimplefractureCopayment\",\n",
    "\"SBCHavingSimplefractureCoinsurance\",\n",
    "\"SBCHavingSimplefractureLimit\",\n",
    "\"TEHBInnTier1IndividualMOOP\",\n",
    "\"TEHBInnTier1FamilyPerPersonMOOP\",\n",
    "\"TEHBInnTier1FamilyPerGroupMOOP\",\n",
    "\"TEHBOutOfNetIndividualMOOP\",\n",
    "\"TEHBOutOfNetFamilyPerPersonMOOP\",\n",
    "\"TEHBOutOfNetFamilyPerGroupMOOP\",\n",
    "\"TEHBCombInnOonIndividualMOOP\",\n",
    "\"TEHBCombInnOonFamilyPerPersonMOOP\",\n",
    "\"TEHBCombInnOonFamilyPerGroupMOOP\",\n",
    "\"IndianPlanVariationEstimatedAdvancedPaymentAmountPerEnrollee\",\n",
    "\"TEHBDedInnTier1Individual\",\n",
    "\"TEHBDedInnTier1FamilyPerPerson\",\n",
    "\"TEHBDedInnTier1FamilyPerGroup\",\n",
    "\"TEHBDedInnTier1Coinsurance\",\n",
    "\"TEHBDedOutOfNetIndividual\",\n",
    "\"TEHBDedOutOfNetFamilyPerPerson\",\n",
    "\"TEHBDedOutOfNetFamilyPerGroup\",\n",
    "\"TEHBDedCombInnOonIndividual\",\n",
    "\"TEHBDedCombInnOonFamilyPerPerson\",\n",
    "\"TEHBDedCombInnOonFamilyPerGroup\",\n",
    "\"OutOfCountryCoverageDescription\",\n",
    "\"SpecialistRequiringReferral\", \"IsNoticeRequiredForPregnancy\"])]"
   ]
  },
  {
   "cell_type": "code",
   "execution_count": 74,
   "metadata": {},
   "outputs": [
    {
     "data": {
      "text/html": [
       "<div>\n",
       "<style scoped>\n",
       "    .dataframe tbody tr th:only-of-type {\n",
       "        vertical-align: middle;\n",
       "    }\n",
       "\n",
       "    .dataframe tbody tr th {\n",
       "        vertical-align: top;\n",
       "    }\n",
       "\n",
       "    .dataframe thead th {\n",
       "        text-align: right;\n",
       "    }\n",
       "</style>\n",
       "<table border=\"1\" class=\"dataframe\">\n",
       "  <thead>\n",
       "    <tr style=\"text-align: right;\">\n",
       "      <th></th>\n",
       "      <th>StateCode</th>\n",
       "      <th>StandardComponentId</th>\n",
       "      <th>PlanMarketingName</th>\n",
       "      <th>NetworkId</th>\n",
       "      <th>ServiceAreaId</th>\n",
       "      <th>PlanType</th>\n",
       "      <th>MetalLevel</th>\n",
       "    </tr>\n",
       "  </thead>\n",
       "  <tbody>\n",
       "    <tr>\n",
       "      <th>29</th>\n",
       "      <td>AK</td>\n",
       "      <td>38344AK1060001</td>\n",
       "      <td>Premera Blue Cross Preferred Gold 1500</td>\n",
       "      <td>AKN001</td>\n",
       "      <td>AKS001</td>\n",
       "      <td>PPO</td>\n",
       "      <td>Gold</td>\n",
       "    </tr>\n",
       "    <tr>\n",
       "      <th>30</th>\n",
       "      <td>AK</td>\n",
       "      <td>38344AK1060001</td>\n",
       "      <td>Premera Blue Cross Preferred Gold 1500</td>\n",
       "      <td>AKN001</td>\n",
       "      <td>AKS001</td>\n",
       "      <td>PPO</td>\n",
       "      <td>Gold</td>\n",
       "    </tr>\n",
       "    <tr>\n",
       "      <th>31</th>\n",
       "      <td>AK</td>\n",
       "      <td>38344AK1060001</td>\n",
       "      <td>Premera Blue Cross Preferred Gold 1500</td>\n",
       "      <td>AKN001</td>\n",
       "      <td>AKS001</td>\n",
       "      <td>PPO</td>\n",
       "      <td>Gold</td>\n",
       "    </tr>\n",
       "    <tr>\n",
       "      <th>32</th>\n",
       "      <td>AK</td>\n",
       "      <td>38344AK1060002</td>\n",
       "      <td>Premera Blue Cross Preferred Silver 4500</td>\n",
       "      <td>AKN001</td>\n",
       "      <td>AKS001</td>\n",
       "      <td>PPO</td>\n",
       "      <td>Silver</td>\n",
       "    </tr>\n",
       "    <tr>\n",
       "      <th>33</th>\n",
       "      <td>AK</td>\n",
       "      <td>38344AK1060002</td>\n",
       "      <td>Premera Blue Cross Preferred Silver 4500</td>\n",
       "      <td>AKN001</td>\n",
       "      <td>AKS001</td>\n",
       "      <td>PPO</td>\n",
       "      <td>Silver</td>\n",
       "    </tr>\n",
       "  </tbody>\n",
       "</table>\n",
       "</div>"
      ],
      "text/plain": [
       "   StateCode StandardComponentId                         PlanMarketingName  \\\n",
       "29        AK      38344AK1060001    Premera Blue Cross Preferred Gold 1500   \n",
       "30        AK      38344AK1060001    Premera Blue Cross Preferred Gold 1500   \n",
       "31        AK      38344AK1060001    Premera Blue Cross Preferred Gold 1500   \n",
       "32        AK      38344AK1060002  Premera Blue Cross Preferred Silver 4500   \n",
       "33        AK      38344AK1060002  Premera Blue Cross Preferred Silver 4500   \n",
       "\n",
       "   NetworkId ServiceAreaId PlanType MetalLevel  \n",
       "29    AKN001        AKS001      PPO       Gold  \n",
       "30    AKN001        AKS001      PPO       Gold  \n",
       "31    AKN001        AKS001      PPO       Gold  \n",
       "32    AKN001        AKS001      PPO     Silver  \n",
       "33    AKN001        AKS001      PPO     Silver  "
      ]
     },
     "execution_count": 74,
     "metadata": {},
     "output_type": "execute_result"
    }
   ],
   "source": [
    "attributes2.head()"
   ]
  },
  {
   "cell_type": "code",
   "execution_count": 103,
   "metadata": {},
   "outputs": [],
   "source": [
    "attributes2 = attributes2[attributes2[\"StateCode\"].isin([\"TX\", \"FL\", \"NY\", \"PA\", \"IL\", \"OH\", \"GA\", \"NC\", \"MI\", \"CA\"])] #NY PA CA"
   ]
  },
  {
   "cell_type": "code",
   "execution_count": 104,
   "metadata": {},
   "outputs": [
    {
     "data": {
      "text/plain": [
       "StateCode                 7\n",
       "StandardComponentId    3124\n",
       "PlanMarketingName      1370\n",
       "NetworkId                42\n",
       "ServiceAreaId           123\n",
       "PlanType                  4\n",
       "MetalLevel                6\n",
       "dtype: int64"
      ]
     },
     "execution_count": 104,
     "metadata": {},
     "output_type": "execute_result"
    }
   ],
   "source": [
    "attributes2.nunique()"
   ]
  },
  {
   "attachments": {},
   "cell_type": "markdown",
   "metadata": {},
   "source": [
    "### Business rules\n",
    "El BR-PUF contiene datos a nivel del\n",
    "plan sobre las reglas comerciales de calificación, como la edad máxima para un dependiente y las relaciones dependientes permitidas. "
   ]
  },
  {
   "cell_type": "code",
   "execution_count": 75,
   "metadata": {},
   "outputs": [],
   "source": [
    "rules = pd.read_csv(\"Business_Rules_PUF.csv\")"
   ]
  },
  {
   "cell_type": "code",
   "execution_count": 76,
   "metadata": {},
   "outputs": [
    {
     "data": {
      "text/plain": [
       "(7453, 16)"
      ]
     },
     "execution_count": 76,
     "metadata": {},
     "output_type": "execute_result"
    }
   ],
   "source": [
    "rules.shape"
   ]
  },
  {
   "cell_type": "code",
   "execution_count": 78,
   "metadata": {},
   "outputs": [
    {
     "data": {
      "text/plain": [
       "BusinessYear                    0\n",
       "StateCode                       0\n",
       "IssuerId                        0\n",
       "SourceName                      0\n",
       "ImportDate                      0\n",
       "MedicalDentalBoth               0\n",
       "ProductId                       0\n",
       "StandardComponentId             0\n",
       "MedicalDentalIndicator          0\n",
       "MaximumUnderageDependent        0\n",
       "DependentMaximumAgRule          0\n",
       "AgeDeterminationRule            0\n",
       "MinimumTobaccoFreeMonthsRule    0\n",
       "CohabitationRule                0\n",
       "MarketCoverage                  0\n",
       "DentalOnlyPlan                  0\n",
       "dtype: int64"
      ]
     },
     "execution_count": 78,
     "metadata": {},
     "output_type": "execute_result"
    }
   ],
   "source": [
    "rules.isna().sum()"
   ]
  },
  {
   "cell_type": "code",
   "execution_count": 79,
   "metadata": {},
   "outputs": [
    {
     "data": {
      "text/html": [
       "<div>\n",
       "<style scoped>\n",
       "    .dataframe tbody tr th:only-of-type {\n",
       "        vertical-align: middle;\n",
       "    }\n",
       "\n",
       "    .dataframe tbody tr th {\n",
       "        vertical-align: top;\n",
       "    }\n",
       "\n",
       "    .dataframe thead th {\n",
       "        text-align: right;\n",
       "    }\n",
       "</style>\n",
       "<table border=\"1\" class=\"dataframe\">\n",
       "  <thead>\n",
       "    <tr style=\"text-align: right;\">\n",
       "      <th></th>\n",
       "      <th>BusinessYear</th>\n",
       "      <th>StateCode</th>\n",
       "      <th>IssuerId</th>\n",
       "      <th>SourceName</th>\n",
       "      <th>ImportDate</th>\n",
       "      <th>MedicalDentalBoth</th>\n",
       "      <th>ProductId</th>\n",
       "      <th>StandardComponentId</th>\n",
       "      <th>MedicalDentalIndicator</th>\n",
       "      <th>MaximumUnderageDependent</th>\n",
       "      <th>DependentMaximumAgRule</th>\n",
       "      <th>AgeDeterminationRule</th>\n",
       "      <th>MinimumTobaccoFreeMonthsRule</th>\n",
       "      <th>CohabitationRule</th>\n",
       "      <th>MarketCoverage</th>\n",
       "      <th>DentalOnlyPlan</th>\n",
       "    </tr>\n",
       "  </thead>\n",
       "  <tbody>\n",
       "    <tr>\n",
       "      <th>0</th>\n",
       "      <td>2023</td>\n",
       "      <td>AK</td>\n",
       "      <td>21989</td>\n",
       "      <td>HIOS</td>\n",
       "      <td>11/19/2022 1:01</td>\n",
       "      <td>Dental</td>\n",
       "      <td>21989AK003</td>\n",
       "      <td>21989AK0030001</td>\n",
       "      <td>Dental</td>\n",
       "      <td>3</td>\n",
       "      <td>25</td>\n",
       "      <td>Age on effective date</td>\n",
       "      <td>Not Applicable</td>\n",
       "      <td>Child,No;Foster Child,No;Grandson or Granddaug...</td>\n",
       "      <td>Individual</td>\n",
       "      <td>Yes</td>\n",
       "    </tr>\n",
       "    <tr>\n",
       "      <th>1</th>\n",
       "      <td>2023</td>\n",
       "      <td>AK</td>\n",
       "      <td>21989</td>\n",
       "      <td>HIOS</td>\n",
       "      <td>11/19/2022 1:01</td>\n",
       "      <td>Dental</td>\n",
       "      <td>21989AK003</td>\n",
       "      <td>21989AK0030051</td>\n",
       "      <td>Dental</td>\n",
       "      <td>3</td>\n",
       "      <td>25</td>\n",
       "      <td>Age on effective date</td>\n",
       "      <td>Not Applicable</td>\n",
       "      <td>Child,No;Foster Child,No;Grandson or Granddaug...</td>\n",
       "      <td>SHOP (Small Group)</td>\n",
       "      <td>Yes</td>\n",
       "    </tr>\n",
       "    <tr>\n",
       "      <th>2</th>\n",
       "      <td>2023</td>\n",
       "      <td>AK</td>\n",
       "      <td>21989</td>\n",
       "      <td>HIOS</td>\n",
       "      <td>11/19/2022 1:01</td>\n",
       "      <td>Dental</td>\n",
       "      <td>21989AK003</td>\n",
       "      <td>21989AK0030052</td>\n",
       "      <td>Dental</td>\n",
       "      <td>3</td>\n",
       "      <td>25</td>\n",
       "      <td>Age on effective date</td>\n",
       "      <td>Not Applicable</td>\n",
       "      <td>Child,No;Foster Child,No;Grandson or Granddaug...</td>\n",
       "      <td>SHOP (Small Group)</td>\n",
       "      <td>Yes</td>\n",
       "    </tr>\n",
       "    <tr>\n",
       "      <th>3</th>\n",
       "      <td>2023</td>\n",
       "      <td>AK</td>\n",
       "      <td>21989</td>\n",
       "      <td>HIOS</td>\n",
       "      <td>11/19/2022 1:01</td>\n",
       "      <td>Dental</td>\n",
       "      <td>21989AK004</td>\n",
       "      <td>21989AK0040051</td>\n",
       "      <td>Dental</td>\n",
       "      <td>3</td>\n",
       "      <td>25</td>\n",
       "      <td>Age on effective date</td>\n",
       "      <td>Not Applicable</td>\n",
       "      <td>Child,No;Foster Child,No;Grandson or Granddaug...</td>\n",
       "      <td>SHOP (Small Group)</td>\n",
       "      <td>Yes</td>\n",
       "    </tr>\n",
       "    <tr>\n",
       "      <th>4</th>\n",
       "      <td>2023</td>\n",
       "      <td>AK</td>\n",
       "      <td>21989</td>\n",
       "      <td>HIOS</td>\n",
       "      <td>11/19/2022 1:01</td>\n",
       "      <td>Dental</td>\n",
       "      <td>21989AK004</td>\n",
       "      <td>21989AK0040052</td>\n",
       "      <td>Dental</td>\n",
       "      <td>3</td>\n",
       "      <td>25</td>\n",
       "      <td>Age on effective date</td>\n",
       "      <td>Not Applicable</td>\n",
       "      <td>Child,No;Foster Child,No;Grandson or Granddaug...</td>\n",
       "      <td>SHOP (Small Group)</td>\n",
       "      <td>Yes</td>\n",
       "    </tr>\n",
       "  </tbody>\n",
       "</table>\n",
       "</div>"
      ],
      "text/plain": [
       "   BusinessYear StateCode  IssuerId SourceName       ImportDate  \\\n",
       "0          2023        AK     21989       HIOS  11/19/2022 1:01   \n",
       "1          2023        AK     21989       HIOS  11/19/2022 1:01   \n",
       "2          2023        AK     21989       HIOS  11/19/2022 1:01   \n",
       "3          2023        AK     21989       HIOS  11/19/2022 1:01   \n",
       "4          2023        AK     21989       HIOS  11/19/2022 1:01   \n",
       "\n",
       "  MedicalDentalBoth   ProductId StandardComponentId MedicalDentalIndicator  \\\n",
       "0            Dental  21989AK003      21989AK0030001                 Dental   \n",
       "1            Dental  21989AK003      21989AK0030051                 Dental   \n",
       "2            Dental  21989AK003      21989AK0030052                 Dental   \n",
       "3            Dental  21989AK004      21989AK0040051                 Dental   \n",
       "4            Dental  21989AK004      21989AK0040052                 Dental   \n",
       "\n",
       "  MaximumUnderageDependent DependentMaximumAgRule   AgeDeterminationRule  \\\n",
       "0                        3                     25  Age on effective date   \n",
       "1                        3                     25  Age on effective date   \n",
       "2                        3                     25  Age on effective date   \n",
       "3                        3                     25  Age on effective date   \n",
       "4                        3                     25  Age on effective date   \n",
       "\n",
       "  MinimumTobaccoFreeMonthsRule  \\\n",
       "0               Not Applicable   \n",
       "1               Not Applicable   \n",
       "2               Not Applicable   \n",
       "3               Not Applicable   \n",
       "4               Not Applicable   \n",
       "\n",
       "                                    CohabitationRule      MarketCoverage  \\\n",
       "0  Child,No;Foster Child,No;Grandson or Granddaug...          Individual   \n",
       "1  Child,No;Foster Child,No;Grandson or Granddaug...  SHOP (Small Group)   \n",
       "2  Child,No;Foster Child,No;Grandson or Granddaug...  SHOP (Small Group)   \n",
       "3  Child,No;Foster Child,No;Grandson or Granddaug...  SHOP (Small Group)   \n",
       "4  Child,No;Foster Child,No;Grandson or Granddaug...  SHOP (Small Group)   \n",
       "\n",
       "  DentalOnlyPlan  \n",
       "0            Yes  \n",
       "1            Yes  \n",
       "2            Yes  \n",
       "3            Yes  \n",
       "4            Yes  "
      ]
     },
     "execution_count": 79,
     "metadata": {},
     "output_type": "execute_result"
    }
   ],
   "source": [
    "rules.head()"
   ]
  },
  {
   "cell_type": "code",
   "execution_count": 84,
   "metadata": {},
   "outputs": [
    {
     "data": {
      "text/plain": [
       "BusinessYear                       1\n",
       "StateCode                         33\n",
       "IssuerId                         194\n",
       "SourceName                         2\n",
       "ImportDate                        62\n",
       "MedicalDentalBoth                  1\n",
       "ProductId                        450\n",
       "StandardComponentId             4920\n",
       "MedicalDentalIndicator             1\n",
       "MaximumUnderageDependent           1\n",
       "DependentMaximumAgRule             5\n",
       "AgeDeterminationRule               1\n",
       "MinimumTobaccoFreeMonthsRule       3\n",
       "CohabitationRule                  56\n",
       "MarketCoverage                     2\n",
       "DentalOnlyPlan                     1\n",
       "dtype: int64"
      ]
     },
     "execution_count": 84,
     "metadata": {},
     "output_type": "execute_result"
    }
   ],
   "source": [
    "rules2.nunique()"
   ]
  },
  {
   "attachments": {},
   "cell_type": "markdown",
   "metadata": {},
   "source": [
    "##### Eliminar columnas\n",
    "BusinessYear - SourceName - ImportDate - MedicalDentalBoth - ProductId - MedicalDentalIndicator - MaximumUnderageDependent - AgeDeterminationRule - MinimumTobaccoFreeMonthsRule - CohabitationRule - MarketCoverage - DentalOnlyPla"
   ]
  },
  {
   "cell_type": "code",
   "execution_count": 82,
   "metadata": {},
   "outputs": [],
   "source": [
    "rules2 = rules[rules[\"MedicalDentalBoth\"]==\"Medical\"]"
   ]
  },
  {
   "cell_type": "code",
   "execution_count": 98,
   "metadata": {},
   "outputs": [
    {
     "data": {
      "text/plain": [
       "No    4920\n",
       "Name: DentalOnlyPlan, dtype: int64"
      ]
     },
     "execution_count": 98,
     "metadata": {},
     "output_type": "execute_result"
    }
   ],
   "source": [
    "rules2[\"DentalOnlyPlan\"].value_counts()"
   ]
  },
  {
   "cell_type": "code",
   "execution_count": 99,
   "metadata": {},
   "outputs": [
    {
     "data": {
      "text/plain": [
       "Index(['BusinessYear', 'StateCode', 'IssuerId', 'SourceName', 'ImportDate',\n",
       "       'MedicalDentalBoth', 'ProductId', 'StandardComponentId',\n",
       "       'MedicalDentalIndicator', 'MaximumUnderageDependent',\n",
       "       'DependentMaximumAgRule', 'AgeDeterminationRule',\n",
       "       'MinimumTobaccoFreeMonthsRule', 'CohabitationRule', 'MarketCoverage',\n",
       "       'DentalOnlyPlan'],\n",
       "      dtype='object')"
      ]
     },
     "execution_count": 99,
     "metadata": {},
     "output_type": "execute_result"
    }
   ],
   "source": [
    "rules2.columns"
   ]
  },
  {
   "cell_type": "code",
   "execution_count": 101,
   "metadata": {},
   "outputs": [],
   "source": [
    "rules2 = rules2[['StateCode', 'IssuerId', 'StandardComponentId',\n",
    "       'DependentMaximumAgRule']]"
   ]
  },
  {
   "cell_type": "code",
   "execution_count": 105,
   "metadata": {},
   "outputs": [],
   "source": [
    "rules2 = rules2[rules2[\"StateCode\"].isin([\"TX\", \"FL\", \"NY\", \"PA\", \"IL\", \"OH\", \"GA\", \"NC\", \"MI\", \"CA\"])] #NY PA CA"
   ]
  },
  {
   "cell_type": "code",
   "execution_count": 106,
   "metadata": {},
   "outputs": [
    {
     "data": {
      "text/plain": [
       "StateCode                    7\n",
       "IssuerId                    76\n",
       "StandardComponentId       2086\n",
       "DependentMaximumAgRule       5\n",
       "dtype: int64"
      ]
     },
     "execution_count": 106,
     "metadata": {},
     "output_type": "execute_result"
    }
   ],
   "source": [
    "rules2.nunique()"
   ]
  },
  {
   "attachments": {},
   "cell_type": "markdown",
   "metadata": {},
   "source": [
    "### Service Area\n",
    "El SA-PUF contiene datos a nivel de\n",
    "emisor sobre áreas geográficas de servicio, incluidos el estado, el condado y el código postal. "
   ]
  },
  {
   "cell_type": "code",
   "execution_count": 107,
   "metadata": {},
   "outputs": [],
   "source": [
    "service = pd.read_csv(\"Service_Area_PUF.csv\")"
   ]
  },
  {
   "cell_type": "code",
   "execution_count": 108,
   "metadata": {},
   "outputs": [
    {
     "data": {
      "text/plain": [
       "(12942, 14)"
      ]
     },
     "execution_count": 108,
     "metadata": {},
     "output_type": "execute_result"
    }
   ],
   "source": [
    "service.shape"
   ]
  },
  {
   "cell_type": "code",
   "execution_count": 109,
   "metadata": {},
   "outputs": [
    {
     "data": {
      "text/plain": [
       "BusinessYear                      0\n",
       "StateCode                         0\n",
       "IssuerId                          0\n",
       "SourceName                        0\n",
       "ImportDate                        0\n",
       "ServiceAreaId                     0\n",
       "ServiceAreaName                   0\n",
       "CoverEntireState                  0\n",
       "County                          278\n",
       "PartialCounty                   278\n",
       "ZipCodes                      12879\n",
       "PartialCountyJustification    12879\n",
       "MarketCoverage                    0\n",
       "DentalOnlyPlan                    0\n",
       "dtype: int64"
      ]
     },
     "execution_count": 109,
     "metadata": {},
     "output_type": "execute_result"
    }
   ],
   "source": [
    "service.isna().sum()"
   ]
  },
  {
   "cell_type": "code",
   "execution_count": 111,
   "metadata": {},
   "outputs": [
    {
     "data": {
      "text/html": [
       "<div>\n",
       "<style scoped>\n",
       "    .dataframe tbody tr th:only-of-type {\n",
       "        vertical-align: middle;\n",
       "    }\n",
       "\n",
       "    .dataframe tbody tr th {\n",
       "        vertical-align: top;\n",
       "    }\n",
       "\n",
       "    .dataframe thead th {\n",
       "        text-align: right;\n",
       "    }\n",
       "</style>\n",
       "<table border=\"1\" class=\"dataframe\">\n",
       "  <thead>\n",
       "    <tr style=\"text-align: right;\">\n",
       "      <th></th>\n",
       "      <th>BusinessYear</th>\n",
       "      <th>StateCode</th>\n",
       "      <th>IssuerId</th>\n",
       "      <th>SourceName</th>\n",
       "      <th>ImportDate</th>\n",
       "      <th>ServiceAreaId</th>\n",
       "      <th>ServiceAreaName</th>\n",
       "      <th>CoverEntireState</th>\n",
       "      <th>County</th>\n",
       "      <th>PartialCounty</th>\n",
       "      <th>ZipCodes</th>\n",
       "      <th>PartialCountyJustification</th>\n",
       "      <th>MarketCoverage</th>\n",
       "      <th>DentalOnlyPlan</th>\n",
       "    </tr>\n",
       "  </thead>\n",
       "  <tbody>\n",
       "    <tr>\n",
       "      <th>0</th>\n",
       "      <td>2023</td>\n",
       "      <td>AK</td>\n",
       "      <td>21989</td>\n",
       "      <td>HIOS</td>\n",
       "      <td>2022-11-19 01:01:13</td>\n",
       "      <td>AKS001</td>\n",
       "      <td>Alaska Premier</td>\n",
       "      <td>Yes</td>\n",
       "      <td>NaN</td>\n",
       "      <td>NaN</td>\n",
       "      <td>NaN</td>\n",
       "      <td>NaN</td>\n",
       "      <td>Individual</td>\n",
       "      <td>Yes</td>\n",
       "    </tr>\n",
       "    <tr>\n",
       "      <th>1</th>\n",
       "      <td>2023</td>\n",
       "      <td>AK</td>\n",
       "      <td>21989</td>\n",
       "      <td>HIOS</td>\n",
       "      <td>2022-11-19 01:01:13</td>\n",
       "      <td>AKS001</td>\n",
       "      <td>Alaska Premier</td>\n",
       "      <td>Yes</td>\n",
       "      <td>NaN</td>\n",
       "      <td>NaN</td>\n",
       "      <td>NaN</td>\n",
       "      <td>NaN</td>\n",
       "      <td>SHOP (Small Group)</td>\n",
       "      <td>Yes</td>\n",
       "    </tr>\n",
       "    <tr>\n",
       "      <th>2</th>\n",
       "      <td>2023</td>\n",
       "      <td>AK</td>\n",
       "      <td>21989</td>\n",
       "      <td>HIOS</td>\n",
       "      <td>2022-11-19 01:01:13</td>\n",
       "      <td>AKS002</td>\n",
       "      <td>Alaska PPO</td>\n",
       "      <td>No</td>\n",
       "      <td>2020.0</td>\n",
       "      <td>No</td>\n",
       "      <td>NaN</td>\n",
       "      <td>NaN</td>\n",
       "      <td>Individual</td>\n",
       "      <td>Yes</td>\n",
       "    </tr>\n",
       "    <tr>\n",
       "      <th>3</th>\n",
       "      <td>2023</td>\n",
       "      <td>AK</td>\n",
       "      <td>21989</td>\n",
       "      <td>HIOS</td>\n",
       "      <td>2022-11-19 01:01:13</td>\n",
       "      <td>AKS002</td>\n",
       "      <td>Alaska PPO</td>\n",
       "      <td>No</td>\n",
       "      <td>2020.0</td>\n",
       "      <td>No</td>\n",
       "      <td>NaN</td>\n",
       "      <td>NaN</td>\n",
       "      <td>SHOP (Small Group)</td>\n",
       "      <td>Yes</td>\n",
       "    </tr>\n",
       "    <tr>\n",
       "      <th>4</th>\n",
       "      <td>2023</td>\n",
       "      <td>AK</td>\n",
       "      <td>21989</td>\n",
       "      <td>HIOS</td>\n",
       "      <td>2022-11-19 01:01:13</td>\n",
       "      <td>AKS002</td>\n",
       "      <td>Alaska PPO</td>\n",
       "      <td>No</td>\n",
       "      <td>2090.0</td>\n",
       "      <td>No</td>\n",
       "      <td>NaN</td>\n",
       "      <td>NaN</td>\n",
       "      <td>SHOP (Small Group)</td>\n",
       "      <td>Yes</td>\n",
       "    </tr>\n",
       "  </tbody>\n",
       "</table>\n",
       "</div>"
      ],
      "text/plain": [
       "   BusinessYear StateCode  IssuerId SourceName           ImportDate  \\\n",
       "0          2023        AK     21989       HIOS  2022-11-19 01:01:13   \n",
       "1          2023        AK     21989       HIOS  2022-11-19 01:01:13   \n",
       "2          2023        AK     21989       HIOS  2022-11-19 01:01:13   \n",
       "3          2023        AK     21989       HIOS  2022-11-19 01:01:13   \n",
       "4          2023        AK     21989       HIOS  2022-11-19 01:01:13   \n",
       "\n",
       "  ServiceAreaId ServiceAreaName CoverEntireState  County PartialCounty  \\\n",
       "0        AKS001  Alaska Premier              Yes     NaN           NaN   \n",
       "1        AKS001  Alaska Premier              Yes     NaN           NaN   \n",
       "2        AKS002      Alaska PPO               No  2020.0            No   \n",
       "3        AKS002      Alaska PPO               No  2020.0            No   \n",
       "4        AKS002      Alaska PPO               No  2090.0            No   \n",
       "\n",
       "  ZipCodes PartialCountyJustification      MarketCoverage DentalOnlyPlan  \n",
       "0      NaN                        NaN          Individual            Yes  \n",
       "1      NaN                        NaN  SHOP (Small Group)            Yes  \n",
       "2      NaN                        NaN          Individual            Yes  \n",
       "3      NaN                        NaN  SHOP (Small Group)            Yes  \n",
       "4      NaN                        NaN  SHOP (Small Group)            Yes  "
      ]
     },
     "execution_count": 111,
     "metadata": {},
     "output_type": "execute_result"
    }
   ],
   "source": [
    "service.head()"
   ]
  },
  {
   "attachments": {},
   "cell_type": "markdown",
   "metadata": {},
   "source": [
    "##### Columnas a eliminar\n",
    "BusinessYear - SourceName - ImportDate - CoverEntireState - County - PartialCounty - ZipCodes - PartialCountyJustification - MarketCoverage - DentalOnlyPlan"
   ]
  },
  {
   "cell_type": "code",
   "execution_count": 112,
   "metadata": {},
   "outputs": [],
   "source": [
    "service2 = service[service[\"StateCode\"].isin([\"TX\", \"FL\", \"NY\", \"PA\", \"IL\", \"OH\", \"GA\", \"NC\", \"MI\", \"CA\"])] #NY PA CA"
   ]
  },
  {
   "cell_type": "code",
   "execution_count": 115,
   "metadata": {},
   "outputs": [],
   "source": [
    "service2 = service2[service2[\"DentalOnlyPlan\"]==\"No\"]"
   ]
  },
  {
   "cell_type": "code",
   "execution_count": 122,
   "metadata": {},
   "outputs": [
    {
     "data": {
      "text/plain": [
       "29698_MI_service_area_partial_county.pdf                                3\n",
       "70983_GA_service_area_partial_county_050622                             2\n",
       "66252_TX_service_area_partial_county                                    1\n",
       "58594_MI_service_area_partial_ingham                                    1\n",
       "58594_MI_service_area_partial_lake                                      1\n",
       "58594_MI_service_area_partial_lapeer                                    1\n",
       "58594_MI_service_area_partial_monroe                                    1\n",
       "58594_MI_service_area_partial_muskegon                                  1\n",
       "58594_MI_service_area_partial_oceana                                    1\n",
       "58594_MI_service_area_partial_osceola                                   1\n",
       "58594_MI_service_area_partial_oscoda                                    1\n",
       "58594_MI_service_area_partial_roscommon                                 1\n",
       "58594_MI_service_area_partial_sanilac                                   1\n",
       "60829_PHP_MI_SuppDocServiceAreaPartialCountyPY2023_v1                   1\n",
       "60829_PHPIND_Livingston County_SuppDocServiceAreaPartialCountyPY2023    1\n",
       "71667_MI_service_area_partial_county_081722                             1\n",
       "Name: PartialCountyJustification, dtype: int64"
      ]
     },
     "execution_count": 122,
     "metadata": {},
     "output_type": "execute_result"
    }
   ],
   "source": [
    "service2[\"PartialCountyJustification\"].value_counts()"
   ]
  },
  {
   "cell_type": "code",
   "execution_count": 116,
   "metadata": {},
   "outputs": [
    {
     "data": {
      "text/plain": [
       "BusinessYear                    1\n",
       "StateCode                       7\n",
       "IssuerId                       84\n",
       "SourceName                      2\n",
       "ImportDate                     43\n",
       "ServiceAreaId                 123\n",
       "ServiceAreaName               176\n",
       "CoverEntireState                2\n",
       "County                        853\n",
       "PartialCounty                   2\n",
       "ZipCodes                       19\n",
       "PartialCountyJustification     16\n",
       "MarketCoverage                  2\n",
       "DentalOnlyPlan                  1\n",
       "dtype: int64"
      ]
     },
     "execution_count": 116,
     "metadata": {},
     "output_type": "execute_result"
    }
   ],
   "source": [
    "service2.nunique()"
   ]
  },
  {
   "attachments": {},
   "cell_type": "markdown",
   "metadata": {},
   "source": [
    "### Network PUF\n",
    "El Ntwrk-PUF contiene datos a nivel de emisor que\n",
    "identifican las URL de la red del proveedor. "
   ]
  },
  {
   "cell_type": "code",
   "execution_count": 123,
   "metadata": {},
   "outputs": [],
   "source": [
    "red = pd.read_csv(\"Network_PUF.csv\")"
   ]
  },
  {
   "cell_type": "code",
   "execution_count": 125,
   "metadata": {},
   "outputs": [
    {
     "data": {
      "text/plain": [
       "BusinessYear       0\n",
       "StateCode          0\n",
       "IssuerId           0\n",
       "SourceName         0\n",
       "ImportDate         0\n",
       "NetworkName        0\n",
       "NetworkId          0\n",
       "NetworkURL        31\n",
       "MarketCoverage     0\n",
       "DentalOnlyPlan     0\n",
       "dtype: int64"
      ]
     },
     "execution_count": 125,
     "metadata": {},
     "output_type": "execute_result"
    }
   ],
   "source": [
    "red.isna().sum()"
   ]
  },
  {
   "cell_type": "code",
   "execution_count": 127,
   "metadata": {},
   "outputs": [
    {
     "data": {
      "text/plain": [
       "(712, 10)"
      ]
     },
     "execution_count": 127,
     "metadata": {},
     "output_type": "execute_result"
    }
   ],
   "source": [
    "red.shape"
   ]
  },
  {
   "cell_type": "code",
   "execution_count": 128,
   "metadata": {},
   "outputs": [
    {
     "data": {
      "text/plain": [
       "BusinessYear        1\n",
       "StateCode          33\n",
       "IssuerId          444\n",
       "SourceName          2\n",
       "ImportDate        110\n",
       "NetworkName       447\n",
       "NetworkId         159\n",
       "NetworkURL        342\n",
       "MarketCoverage      2\n",
       "DentalOnlyPlan      2\n",
       "dtype: int64"
      ]
     },
     "execution_count": 128,
     "metadata": {},
     "output_type": "execute_result"
    }
   ],
   "source": [
    "red.nunique()"
   ]
  },
  {
   "cell_type": "code",
   "execution_count": 129,
   "metadata": {},
   "outputs": [
    {
     "data": {
      "text/html": [
       "<div>\n",
       "<style scoped>\n",
       "    .dataframe tbody tr th:only-of-type {\n",
       "        vertical-align: middle;\n",
       "    }\n",
       "\n",
       "    .dataframe tbody tr th {\n",
       "        vertical-align: top;\n",
       "    }\n",
       "\n",
       "    .dataframe thead th {\n",
       "        text-align: right;\n",
       "    }\n",
       "</style>\n",
       "<table border=\"1\" class=\"dataframe\">\n",
       "  <thead>\n",
       "    <tr style=\"text-align: right;\">\n",
       "      <th></th>\n",
       "      <th>BusinessYear</th>\n",
       "      <th>StateCode</th>\n",
       "      <th>IssuerId</th>\n",
       "      <th>SourceName</th>\n",
       "      <th>ImportDate</th>\n",
       "      <th>NetworkName</th>\n",
       "      <th>NetworkId</th>\n",
       "      <th>NetworkURL</th>\n",
       "      <th>MarketCoverage</th>\n",
       "      <th>DentalOnlyPlan</th>\n",
       "    </tr>\n",
       "  </thead>\n",
       "  <tbody>\n",
       "    <tr>\n",
       "      <th>0</th>\n",
       "      <td>2023</td>\n",
       "      <td>AK</td>\n",
       "      <td>21989</td>\n",
       "      <td>HIOS</td>\n",
       "      <td>2022-11-19 01:01:13</td>\n",
       "      <td>Delta Dental Premier</td>\n",
       "      <td>AKN001</td>\n",
       "      <td>https://www.modahealth.com/ProviderSearch?prod...</td>\n",
       "      <td>Individual</td>\n",
       "      <td>Yes</td>\n",
       "    </tr>\n",
       "    <tr>\n",
       "      <th>1</th>\n",
       "      <td>2023</td>\n",
       "      <td>AK</td>\n",
       "      <td>21989</td>\n",
       "      <td>HIOS</td>\n",
       "      <td>2022-11-19 01:01:13</td>\n",
       "      <td>Delta Dental Premier</td>\n",
       "      <td>AKN001</td>\n",
       "      <td>https://www.modahealth.com/ProviderSearch?prod...</td>\n",
       "      <td>SHOP (Small Group)</td>\n",
       "      <td>Yes</td>\n",
       "    </tr>\n",
       "    <tr>\n",
       "      <th>2</th>\n",
       "      <td>2023</td>\n",
       "      <td>AK</td>\n",
       "      <td>21989</td>\n",
       "      <td>HIOS</td>\n",
       "      <td>2022-11-19 01:01:13</td>\n",
       "      <td>Delta Dental PPO</td>\n",
       "      <td>AKN002</td>\n",
       "      <td>https://www.modahealth.com/ProviderSearch?prod...</td>\n",
       "      <td>Individual</td>\n",
       "      <td>Yes</td>\n",
       "    </tr>\n",
       "    <tr>\n",
       "      <th>3</th>\n",
       "      <td>2023</td>\n",
       "      <td>AK</td>\n",
       "      <td>21989</td>\n",
       "      <td>HIOS</td>\n",
       "      <td>2022-11-19 01:01:13</td>\n",
       "      <td>Delta Dental PPO</td>\n",
       "      <td>AKN002</td>\n",
       "      <td>https://www.modahealth.com/ProviderSearch?prod...</td>\n",
       "      <td>SHOP (Small Group)</td>\n",
       "      <td>Yes</td>\n",
       "    </tr>\n",
       "    <tr>\n",
       "      <th>4</th>\n",
       "      <td>2023</td>\n",
       "      <td>AK</td>\n",
       "      <td>38344</td>\n",
       "      <td>HIOS</td>\n",
       "      <td>2022-12-20 01:00:48</td>\n",
       "      <td>Legacy and Dental Select</td>\n",
       "      <td>AKN001</td>\n",
       "      <td>https://premera.sapphirecareselect.com/?ci=pre...</td>\n",
       "      <td>Individual</td>\n",
       "      <td>No</td>\n",
       "    </tr>\n",
       "  </tbody>\n",
       "</table>\n",
       "</div>"
      ],
      "text/plain": [
       "   BusinessYear StateCode  IssuerId SourceName           ImportDate  \\\n",
       "0          2023        AK     21989       HIOS  2022-11-19 01:01:13   \n",
       "1          2023        AK     21989       HIOS  2022-11-19 01:01:13   \n",
       "2          2023        AK     21989       HIOS  2022-11-19 01:01:13   \n",
       "3          2023        AK     21989       HIOS  2022-11-19 01:01:13   \n",
       "4          2023        AK     38344       HIOS  2022-12-20 01:00:48   \n",
       "\n",
       "                NetworkName NetworkId  \\\n",
       "0      Delta Dental Premier    AKN001   \n",
       "1      Delta Dental Premier    AKN001   \n",
       "2          Delta Dental PPO    AKN002   \n",
       "3          Delta Dental PPO    AKN002   \n",
       "4  Legacy and Dental Select    AKN001   \n",
       "\n",
       "                                          NetworkURL      MarketCoverage  \\\n",
       "0  https://www.modahealth.com/ProviderSearch?prod...          Individual   \n",
       "1  https://www.modahealth.com/ProviderSearch?prod...  SHOP (Small Group)   \n",
       "2  https://www.modahealth.com/ProviderSearch?prod...          Individual   \n",
       "3  https://www.modahealth.com/ProviderSearch?prod...  SHOP (Small Group)   \n",
       "4  https://premera.sapphirecareselect.com/?ci=pre...          Individual   \n",
       "\n",
       "  DentalOnlyPlan  \n",
       "0            Yes  \n",
       "1            Yes  \n",
       "2            Yes  \n",
       "3            Yes  \n",
       "4             No  "
      ]
     },
     "execution_count": 129,
     "metadata": {},
     "output_type": "execute_result"
    }
   ],
   "source": [
    "red.head()"
   ]
  },
  {
   "attachments": {},
   "cell_type": "markdown",
   "metadata": {},
   "source": [
    "### Plan ID Crosswalk\n",
    "El propósito de CW-PUF es asignar los\n",
    "QHP y SADP ofrecidos a través de los Intercambios durante el año del plan anterior a los planes que se ofrecerán a través de los\n",
    "Intercambios en el año del plan actual."
   ]
  },
  {
   "cell_type": "code",
   "execution_count": 130,
   "metadata": {},
   "outputs": [
    {
     "name": "stderr",
     "output_type": "stream",
     "text": [
      "C:\\Users\\yanet\\AppData\\Local\\Temp\\ipykernel_26088\\1839852339.py:1: DtypeWarning: Columns (15) have mixed types. Specify dtype option on import or set low_memory=False.\n",
      "  plan = pd.read_csv(\"Plan ID Crosswalk.CSV\")\n"
     ]
    }
   ],
   "source": [
    "plan = pd.read_csv(\"Plan ID Crosswalk.CSV\")"
   ]
  },
  {
   "cell_type": "code",
   "execution_count": 132,
   "metadata": {},
   "outputs": [
    {
     "data": {
      "text/plain": [
       "(164831, 21)"
      ]
     },
     "execution_count": 132,
     "metadata": {},
     "output_type": "execute_result"
    }
   ],
   "source": [
    "plan.shape"
   ]
  },
  {
   "cell_type": "code",
   "execution_count": 133,
   "metadata": {},
   "outputs": [
    {
     "data": {
      "text/plain": [
       "State                        0\n",
       "DentalPlan                   0\n",
       "PlanID_2022                  0\n",
       "IssuerID_2022                0\n",
       "MultistatePlan_2022          0\n",
       "MetalLevel_2022              0\n",
       "ChildAdultOnly_2022          0\n",
       "FIPSCode                     0\n",
       "ZipCode                      0\n",
       "CrosswalkLevel               0\n",
       "ReasonForCrosswalk           0\n",
       "PlanID_2023                  0\n",
       "IssuerID_2023                0\n",
       "MultistatePlan_2023          0\n",
       "MetalLevel_2023              0\n",
       "ChildAdultOnly_2023          0\n",
       "AgeOffPlanID_2023            0\n",
       "IssuerID_AgeOff2023          0\n",
       "MultistatePlan_AgeOff2023    0\n",
       "MetalLevel_AgeOff2023        0\n",
       "ChildAdultOnly_AgeOff2023    0\n",
       "dtype: int64"
      ]
     },
     "execution_count": 133,
     "metadata": {},
     "output_type": "execute_result"
    }
   ],
   "source": [
    "plan.isna().sum()"
   ]
  },
  {
   "cell_type": "code",
   "execution_count": 137,
   "metadata": {},
   "outputs": [
    {
     "data": {
      "text/plain": [
       "N    162491\n",
       "X      2340\n",
       "Name: MultistatePlan_2023, dtype: int64"
      ]
     },
     "execution_count": 137,
     "metadata": {},
     "output_type": "execute_result"
    }
   ],
   "source": [
    "plan[\"MultistatePlan_2023\"].value_counts()"
   ]
  },
  {
   "cell_type": "code",
   "execution_count": 138,
   "metadata": {},
   "outputs": [
    {
     "data": {
      "text/html": [
       "<div>\n",
       "<style scoped>\n",
       "    .dataframe tbody tr th:only-of-type {\n",
       "        vertical-align: middle;\n",
       "    }\n",
       "\n",
       "    .dataframe tbody tr th {\n",
       "        vertical-align: top;\n",
       "    }\n",
       "\n",
       "    .dataframe thead th {\n",
       "        text-align: right;\n",
       "    }\n",
       "</style>\n",
       "<table border=\"1\" class=\"dataframe\">\n",
       "  <thead>\n",
       "    <tr style=\"text-align: right;\">\n",
       "      <th></th>\n",
       "      <th>State</th>\n",
       "      <th>DentalPlan</th>\n",
       "      <th>PlanID_2022</th>\n",
       "      <th>IssuerID_2022</th>\n",
       "      <th>MultistatePlan_2022</th>\n",
       "      <th>MetalLevel_2022</th>\n",
       "      <th>ChildAdultOnly_2022</th>\n",
       "      <th>FIPSCode</th>\n",
       "      <th>ZipCode</th>\n",
       "      <th>CrosswalkLevel</th>\n",
       "      <th>...</th>\n",
       "      <th>PlanID_2023</th>\n",
       "      <th>IssuerID_2023</th>\n",
       "      <th>MultistatePlan_2023</th>\n",
       "      <th>MetalLevel_2023</th>\n",
       "      <th>ChildAdultOnly_2023</th>\n",
       "      <th>AgeOffPlanID_2023</th>\n",
       "      <th>IssuerID_AgeOff2023</th>\n",
       "      <th>MultistatePlan_AgeOff2023</th>\n",
       "      <th>MetalLevel_AgeOff2023</th>\n",
       "      <th>ChildAdultOnly_AgeOff2023</th>\n",
       "    </tr>\n",
       "  </thead>\n",
       "  <tbody>\n",
       "    <tr>\n",
       "      <th>0</th>\n",
       "      <td>HI</td>\n",
       "      <td>Y</td>\n",
       "      <td>10046HI0020003</td>\n",
       "      <td>10046</td>\n",
       "      <td>N</td>\n",
       "      <td>High</td>\n",
       "      <td>0</td>\n",
       "      <td>15001</td>\n",
       "      <td>0</td>\n",
       "      <td>0</td>\n",
       "      <td>...</td>\n",
       "      <td>10046HI0020003</td>\n",
       "      <td>10046</td>\n",
       "      <td>N</td>\n",
       "      <td>High</td>\n",
       "      <td>0</td>\n",
       "      <td>00000XX0000000</td>\n",
       "      <td>0</td>\n",
       "      <td>X</td>\n",
       "      <td>X</td>\n",
       "      <td>X</td>\n",
       "    </tr>\n",
       "    <tr>\n",
       "      <th>1</th>\n",
       "      <td>HI</td>\n",
       "      <td>Y</td>\n",
       "      <td>10046HI0020003</td>\n",
       "      <td>10046</td>\n",
       "      <td>N</td>\n",
       "      <td>High</td>\n",
       "      <td>0</td>\n",
       "      <td>15003</td>\n",
       "      <td>0</td>\n",
       "      <td>0</td>\n",
       "      <td>...</td>\n",
       "      <td>10046HI0020003</td>\n",
       "      <td>10046</td>\n",
       "      <td>N</td>\n",
       "      <td>High</td>\n",
       "      <td>0</td>\n",
       "      <td>00000XX0000000</td>\n",
       "      <td>0</td>\n",
       "      <td>X</td>\n",
       "      <td>X</td>\n",
       "      <td>X</td>\n",
       "    </tr>\n",
       "    <tr>\n",
       "      <th>2</th>\n",
       "      <td>HI</td>\n",
       "      <td>Y</td>\n",
       "      <td>10046HI0020003</td>\n",
       "      <td>10046</td>\n",
       "      <td>N</td>\n",
       "      <td>High</td>\n",
       "      <td>0</td>\n",
       "      <td>15005</td>\n",
       "      <td>0</td>\n",
       "      <td>0</td>\n",
       "      <td>...</td>\n",
       "      <td>10046HI0020003</td>\n",
       "      <td>10046</td>\n",
       "      <td>N</td>\n",
       "      <td>High</td>\n",
       "      <td>0</td>\n",
       "      <td>00000XX0000000</td>\n",
       "      <td>0</td>\n",
       "      <td>X</td>\n",
       "      <td>X</td>\n",
       "      <td>X</td>\n",
       "    </tr>\n",
       "    <tr>\n",
       "      <th>3</th>\n",
       "      <td>HI</td>\n",
       "      <td>Y</td>\n",
       "      <td>10046HI0020003</td>\n",
       "      <td>10046</td>\n",
       "      <td>N</td>\n",
       "      <td>High</td>\n",
       "      <td>0</td>\n",
       "      <td>15007</td>\n",
       "      <td>0</td>\n",
       "      <td>0</td>\n",
       "      <td>...</td>\n",
       "      <td>10046HI0020003</td>\n",
       "      <td>10046</td>\n",
       "      <td>N</td>\n",
       "      <td>High</td>\n",
       "      <td>0</td>\n",
       "      <td>00000XX0000000</td>\n",
       "      <td>0</td>\n",
       "      <td>X</td>\n",
       "      <td>X</td>\n",
       "      <td>X</td>\n",
       "    </tr>\n",
       "    <tr>\n",
       "      <th>4</th>\n",
       "      <td>HI</td>\n",
       "      <td>Y</td>\n",
       "      <td>10046HI0020003</td>\n",
       "      <td>10046</td>\n",
       "      <td>N</td>\n",
       "      <td>High</td>\n",
       "      <td>0</td>\n",
       "      <td>15009</td>\n",
       "      <td>0</td>\n",
       "      <td>0</td>\n",
       "      <td>...</td>\n",
       "      <td>10046HI0020003</td>\n",
       "      <td>10046</td>\n",
       "      <td>N</td>\n",
       "      <td>High</td>\n",
       "      <td>0</td>\n",
       "      <td>00000XX0000000</td>\n",
       "      <td>0</td>\n",
       "      <td>X</td>\n",
       "      <td>X</td>\n",
       "      <td>X</td>\n",
       "    </tr>\n",
       "  </tbody>\n",
       "</table>\n",
       "<p>5 rows × 21 columns</p>\n",
       "</div>"
      ],
      "text/plain": [
       "  State DentalPlan     PlanID_2022  IssuerID_2022 MultistatePlan_2022  \\\n",
       "0    HI          Y  10046HI0020003          10046                   N   \n",
       "1    HI          Y  10046HI0020003          10046                   N   \n",
       "2    HI          Y  10046HI0020003          10046                   N   \n",
       "3    HI          Y  10046HI0020003          10046                   N   \n",
       "4    HI          Y  10046HI0020003          10046                   N   \n",
       "\n",
       "  MetalLevel_2022  ChildAdultOnly_2022  FIPSCode  ZipCode  CrosswalkLevel  \\\n",
       "0            High                    0     15001        0               0   \n",
       "1            High                    0     15003        0               0   \n",
       "2            High                    0     15005        0               0   \n",
       "3            High                    0     15007        0               0   \n",
       "4            High                    0     15009        0               0   \n",
       "\n",
       "   ...     PlanID_2023 IssuerID_2023  MultistatePlan_2023 MetalLevel_2023  \\\n",
       "0  ...  10046HI0020003         10046                    N            High   \n",
       "1  ...  10046HI0020003         10046                    N            High   \n",
       "2  ...  10046HI0020003         10046                    N            High   \n",
       "3  ...  10046HI0020003         10046                    N            High   \n",
       "4  ...  10046HI0020003         10046                    N            High   \n",
       "\n",
       "  ChildAdultOnly_2023 AgeOffPlanID_2023 IssuerID_AgeOff2023  \\\n",
       "0                   0    00000XX0000000                   0   \n",
       "1                   0    00000XX0000000                   0   \n",
       "2                   0    00000XX0000000                   0   \n",
       "3                   0    00000XX0000000                   0   \n",
       "4                   0    00000XX0000000                   0   \n",
       "\n",
       "   MultistatePlan_AgeOff2023 MetalLevel_AgeOff2023 ChildAdultOnly_AgeOff2023  \n",
       "0                          X                     X                         X  \n",
       "1                          X                     X                         X  \n",
       "2                          X                     X                         X  \n",
       "3                          X                     X                         X  \n",
       "4                          X                     X                         X  \n",
       "\n",
       "[5 rows x 21 columns]"
      ]
     },
     "execution_count": 138,
     "metadata": {},
     "output_type": "execute_result"
    }
   ],
   "source": [
    "plan.head()"
   ]
  },
  {
   "cell_type": "code",
   "execution_count": 134,
   "metadata": {},
   "outputs": [
    {
     "data": {
      "text/plain": [
       "State                          33\n",
       "DentalPlan                      2\n",
       "PlanID_2022                  5820\n",
       "IssuerID_2022                 391\n",
       "MultistatePlan_2022             1\n",
       "MetalLevel_2022                 7\n",
       "ChildAdultOnly_2022             2\n",
       "FIPSCode                     2449\n",
       "ZipCode                        12\n",
       "CrosswalkLevel                  5\n",
       "ReasonForCrosswalk              9\n",
       "PlanID_2023                  4572\n",
       "IssuerID_2023                 374\n",
       "MultistatePlan_2023             2\n",
       "MetalLevel_2023                 8\n",
       "ChildAdultOnly_2023             5\n",
       "AgeOffPlanID_2023             285\n",
       "IssuerID_AgeOff2023           125\n",
       "MultistatePlan_AgeOff2023       2\n",
       "MetalLevel_AgeOff2023           5\n",
       "ChildAdultOnly_AgeOff2023       2\n",
       "dtype: int64"
      ]
     },
     "execution_count": 134,
     "metadata": {},
     "output_type": "execute_result"
    }
   ],
   "source": [
    "plan.nunique()"
   ]
  },
  {
   "cell_type": "code",
   "execution_count": null,
   "metadata": {},
   "outputs": [],
   "source": []
  }
 ],
 "metadata": {
  "kernelspec": {
   "display_name": "Python 3 (ipykernel)",
   "language": "python",
   "name": "python3"
  },
  "language_info": {
   "codemirror_mode": {
    "name": "ipython",
    "version": 3
   },
   "file_extension": ".py",
   "mimetype": "text/x-python",
   "name": "python",
   "nbconvert_exporter": "python",
   "pygments_lexer": "ipython3",
   "version": "3.9.16"
  },
  "orig_nbformat": 4
 },
 "nbformat": 4,
 "nbformat_minor": 2
}
